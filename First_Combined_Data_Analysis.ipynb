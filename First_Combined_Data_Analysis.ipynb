{
 "cells": [
  {
   "cell_type": "code",
   "execution_count": 1,
   "id": "5a45df87-3743-4cd0-aa1f-a6111e5d2b6b",
   "metadata": {},
   "outputs": [],
   "source": [
    "import pandas as pd"
   ]
  },
  {
   "cell_type": "code",
   "execution_count": 23,
   "id": "70bbbc29-f2bf-4e33-bca3-6adcb34612cf",
   "metadata": {},
   "outputs": [
    {
     "name": "stdout",
     "output_type": "stream",
     "text": [
      "Sales data: \n",
      "\n",
      "  Product_ID Product_Name         Category Subcategory         Region Country  \\\n",
      "0      P0001    Product 1  Office Supplies       Paper  North America  Mexico   \n",
      "1      P0002    Product 2        Furniture      Chairs  North America     USA   \n",
      "2      P0003    Product 3        Furniture    Cabinets           Asia   China   \n",
      "3      P0004    Product 4        Furniture      Chairs  North America  Canada   \n",
      "4      P0005    Product 5  Office Supplies       Paper  South America  Brazil   \n",
      "\n",
      "   Units_Sold    Revenue    Profit  Order_Date   Ship_Date  \\\n",
      "0         141   18330.00   1555.93  2023-02-22  2023-03-05   \n",
      "1         112   13888.00   2784.61  2023-10-15  2023-10-19   \n",
      "2         389  157486.65  35361.24  2023-06-24  2023-06-29   \n",
      "3          50    9295.00   1264.02  2023-05-16  2023-05-29   \n",
      "4         283   43485.78   9008.51  2023-07-05  2023-07-15   \n",
      "\n",
      "   Customer_Satisfaction  Discount_Applied  \n",
      "0                      5              0.02  \n",
      "1                      5              0.10  \n",
      "2                      2              0.05  \n",
      "3                      1              0.18  \n",
      "4                      2              0.18  \n",
      "\n",
      "Customer data: \n",
      "\n",
      "  Customer_ID Customer_Name Customer_Segment         Region  \\\n",
      "0     CUST001    Customer 1      Home Office  North America   \n",
      "1     CUST002    Customer 2         Consumer  South America   \n",
      "2     CUST003    Customer 3        Corporate  South America   \n",
      "3     CUST004    Customer 4         Consumer           Asia   \n",
      "4     CUST005    Customer 5      Home Office         Europe   \n",
      "\n",
      "   Customer_Satisfaction Account_Manager  \n",
      "0                      1       Manager A  \n",
      "1                      2       Manager B  \n",
      "2                      2       Manager C  \n",
      "3                      4       Manager A  \n",
      "4                      4       Manager B  \n"
     ]
    }
   ],
   "source": [
    "sales_df = pd.read_csv(\"/Users/anastasia/Downloads/custom_sales_data.csv\")\n",
    "customer_df = pd.read_csv(\"/Users/anastasia/Downloads/customer_data.csv\")\n",
    "\n",
    "print(f\"Sales data: \\n\\n{sales_df.head()}\")\n",
    "print(f\"\\nCustomer data: \\n\\n{customer_df.head()}\")"
   ]
  },
  {
   "cell_type": "code",
   "execution_count": 45,
   "id": "c581412d-9f10-45f6-845f-c4eb97580710",
   "metadata": {},
   "outputs": [
    {
     "name": "stdout",
     "output_type": "stream",
     "text": [
      "  Product_ID Product_Name         Category Subcategory         Region Country  \\\n",
      "0      P0001    Product 1  Office Supplies       Paper  North America  Mexico   \n",
      "1      P0001    Product 1  Office Supplies       Paper  North America  Mexico   \n",
      "2      P0001    Product 1  Office Supplies       Paper  North America  Mexico   \n",
      "3      P0001    Product 1  Office Supplies       Paper  North America  Mexico   \n",
      "4      P0001    Product 1  Office Supplies       Paper  North America  Mexico   \n",
      "\n",
      "   Units_Sold  Revenue   Profit  Order_Date   Ship_Date  \\\n",
      "0         141  18330.0  1555.93  2023-02-22  2023-03-05   \n",
      "1         141  18330.0  1555.93  2023-02-22  2023-03-05   \n",
      "2         141  18330.0  1555.93  2023-02-22  2023-03-05   \n",
      "3         141  18330.0  1555.93  2023-02-22  2023-03-05   \n",
      "4         141  18330.0  1555.93  2023-02-22  2023-03-05   \n",
      "\n",
      "   Customer_Satisfaction_sales  Discount_Applied Customer_ID Customer_Name  \\\n",
      "0                            5              0.02     CUST001    Customer 1   \n",
      "1                            5              0.02     CUST007    Customer 7   \n",
      "2                            5              0.02     CUST014   Customer 14   \n",
      "3                            5              0.02     CUST020   Customer 20   \n",
      "4                            5              0.02     CUST025   Customer 25   \n",
      "\n",
      "  Customer_Segment  Customer_Satisfaction_customer Account_Manager  \n",
      "0      Home Office                               1       Manager A  \n",
      "1   Small Business                               2       Manager B  \n",
      "2         Consumer                               3       Manager C  \n",
      "3         Consumer                               2       Manager A  \n",
      "4   Small Business                               5       Manager C  \n"
     ]
    }
   ],
   "source": [
    "merged_df = pd.merge(sales_df, customer_df, on=\"Region\", how=\"inner\", suffixes=(\"_sales\", \"_customer\"))\n",
    "print(merged_df.head())"
   ]
  },
  {
   "cell_type": "code",
   "execution_count": 33,
   "id": "b385fd22-2b4f-419d-89bf-00265f1e4d8a",
   "metadata": {},
   "outputs": [
    {
     "name": "stdout",
     "output_type": "stream",
     "text": [
      "\n",
      "Average Revenue and Profit by Segment:\n",
      "                        Revenue        Profit\n",
      "Customer_Segment                            \n",
      "Consumer          65548.594485  11132.820274\n",
      "Corporate         65253.963889  11170.971775\n",
      "Home Office       65554.255827  11334.389278\n",
      "Small Business    65455.030442  11289.352874\n"
     ]
    }
   ],
   "source": [
    "segment_summary = merged_df.groupby(\"Customer_Segment\")[[\"Revenue\", \"Profit\"]].mean()\n",
    "print(f\"\\nAverage Revenue and Profit by Segment:\\n {segment_summary}\")"
   ]
  },
  {
   "cell_type": "code",
   "execution_count": 47,
   "id": "8fc46274-ed5b-4449-867d-b5f475790f04",
   "metadata": {},
   "outputs": [
    {
     "name": "stdout",
     "output_type": "stream",
     "text": [
      "Regional Customer Satisfaction: \n",
      " Region\n",
      "Africa           3.380952\n",
      "Asia             2.666667\n",
      "Europe           3.400000\n",
      "North America    3.000000\n",
      "South America    2.375000\n",
      "Name: Customer_Satisfaction_customer, dtype: float64\n"
     ]
    }
   ],
   "source": [
    "satisfaction_by_region = merged_df.groupby(\"Region\")[\"Customer_Satisfaction_customer\"].mean()\n",
    "print(f\"Regional Customer Satisfaction: \\n {satisfaction_by_region}\")"
   ]
  },
  {
   "cell_type": "code",
   "execution_count": 59,
   "id": "abdcc0e3-508d-4dec-b2a8-430321676ae2",
   "metadata": {},
   "outputs": [
    {
     "name": "stdout",
     "output_type": "stream",
     "text": [
      "Index(['Product_ID', 'Product_Name', 'Category', 'Subcategory', 'Region',\n",
      "       'Country', 'Units_Sold', 'Revenue', 'Profit', 'Order_Date', 'Ship_Date',\n",
      "       'Customer_Satisfaction_sales', 'Discount_Applied', 'Customer_ID',\n",
      "       'Customer_Name', 'Customer_Segment', 'Customer_Satisfaction_customer',\n",
      "       'Account_Manager'],\n",
      "      dtype='object')\n"
     ]
    }
   ],
   "source": [
    "print(merged_df.columns)"
   ]
  },
  {
   "cell_type": "code",
   "execution_count": 61,
   "id": "4c0764f1-dd74-4df6-99c3-315e34b92564",
   "metadata": {},
   "outputs": [
    {
     "name": "stdout",
     "output_type": "stream",
     "text": [
      "Top 5 Most Profitable Customers:\n",
      "Customer_Name\n",
      "Customer 10     2526455.27\n",
      "Customer 100    2526455.27\n",
      "Customer 11     2526455.27\n",
      "Customer 15     2526455.27\n",
      "Customer 16     2526455.27\n",
      "Name: Profit, dtype: float64\n"
     ]
    }
   ],
   "source": [
    "top_customers = merged_df.groupby(\"Customer_Name\")[\"Profit\"].sum().nlargest(5)\n",
    "print(f\"Top 5 Most Profitable Customers:\\n{top_customers}\")"
   ]
  },
  {
   "cell_type": "code",
   "execution_count": 75,
   "id": "dc3c118e-1927-4db5-8478-5ee2f7632eb6",
   "metadata": {},
   "outputs": [
    {
     "name": "stdout",
     "output_type": "stream",
     "text": [
      "Customer_Name\n",
      "Customer 99    2526455.27\n",
      "Customer 87    2526455.27\n",
      "Customer 10    2526455.27\n",
      "Customer 51    2526455.27\n",
      "Customer 64    2526455.27\n",
      "Name: Profit, dtype: float64\n"
     ]
    }
   ],
   "source": [
    "profit_by_customer = merged_df.groupby(\"Customer_Name\")[\"Profit\"].sum().sort_values(ascending=False)\n",
    "print(profit_by_customer.head())"
   ]
  },
  {
   "cell_type": "code",
   "execution_count": null,
   "id": "e4abebaa-414d-49e3-9015-b0a2a7d579ba",
   "metadata": {},
   "outputs": [],
   "source": []
  }
 ],
 "metadata": {
  "kernelspec": {
   "display_name": "Python 3 (ipykernel)",
   "language": "python",
   "name": "python3"
  },
  "language_info": {
   "codemirror_mode": {
    "name": "ipython",
    "version": 3
   },
   "file_extension": ".py",
   "mimetype": "text/x-python",
   "name": "python",
   "nbconvert_exporter": "python",
   "pygments_lexer": "ipython3",
   "version": "3.12.4"
  }
 },
 "nbformat": 4,
 "nbformat_minor": 5
}
