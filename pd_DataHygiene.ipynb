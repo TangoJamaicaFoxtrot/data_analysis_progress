{
 "cells": [
  {
   "cell_type": "code",
   "execution_count": 47,
   "id": "0543fe34-f911-447f-b86f-d199d2353122",
   "metadata": {},
   "outputs": [
    {
     "name": "stdout",
     "output_type": "stream",
     "text": [
      "Messy data saved as 'messy_data.csv'\n"
     ]
    }
   ],
   "source": [
    "import pandas as pd\n",
    "import numpy as np\n",
    "import random\n",
    "\n",
    "# Define constants for the dataset\n",
    "regions = [\"North America\", \"South America\", \"Europe\", \"Asia\", \"Africa\", None]  # Include missing region\n",
    "customer_segments = [\"Enterprise\", \"Mid-Market\", \"SMB\", None]  # Include missing segment\n",
    "subscription_plans = [\"Basic\", \"Premium\", \"Enterprise\", None]  # Include missing plans\n",
    "managers = [\"Manager A\", \"Manager B\", \"Manager C\", \"Manager D\", None]\n",
    "\n",
    "# Generate sample data\n",
    "np.random.seed(42)  # For reproducibility\n",
    "num_records = 100\n",
    "\n",
    "data = {\n",
    "    \"Customer_ID\": [f\"CUST{i:04d}\" for i in range(1, num_records + 1)],\n",
    "    \"Region\": np.random.choice(regions, num_records),\n",
    "    \"Customer_Segment\": np.random.choice(customer_segments, num_records),\n",
    "    \"Subscription_Plan\": np.random.choice(subscription_plans, num_records),\n",
    "    \"Monthly_Revenue\": np.random.uniform(-1000, 50000, num_records),  # Include negative and high values\n",
    "    \"Monthly_Profit\": np.random.uniform(-500, 20000, num_records),  # Include negative values\n",
    "    \"Churn_Flag\": np.random.choice([0, 1, 2, None], num_records),  # Include invalid values (e.g., 2, None)\n",
    "    \"Renewal_Status\": np.random.choice([\"Renewed\", \"Churned\", None], num_records),\n",
    "    \"Signup_Date\": [None if random.random() < 0.1 else pd.Timestamp(\"2021-01-01\") + pd.to_timedelta(random.randint(0, 1000), unit=\"d\") for _ in range(num_records)],\n",
    "    \"Account_Manager\": np.random.choice(managers, num_records)\n",
    "}\n",
    "\n",
    "# Create DataFrame\n",
    "messy_data_df = pd.DataFrame(data)\n",
    "\n",
    "# Save to CSV\n",
    "messy_data_df.to_csv(\"messy_data.csv\", index=False)\n",
    "\n",
    "print(\"Messy data saved as 'messy_data.csv'\")\n"
   ]
  },
  {
   "cell_type": "code",
   "execution_count": 49,
   "id": "5a2d2623-d276-4f37-ae03-29b8b85adf7e",
   "metadata": {},
   "outputs": [
    {
     "data": {
      "text/html": [
       "<div>\n",
       "<style scoped>\n",
       "    .dataframe tbody tr th:only-of-type {\n",
       "        vertical-align: middle;\n",
       "    }\n",
       "\n",
       "    .dataframe tbody tr th {\n",
       "        vertical-align: top;\n",
       "    }\n",
       "\n",
       "    .dataframe thead th {\n",
       "        text-align: right;\n",
       "    }\n",
       "</style>\n",
       "<table border=\"1\" class=\"dataframe\">\n",
       "  <thead>\n",
       "    <tr style=\"text-align: right;\">\n",
       "      <th></th>\n",
       "      <th>Customer_ID</th>\n",
       "      <th>Region</th>\n",
       "      <th>Customer_Segment</th>\n",
       "      <th>Subscription_Plan</th>\n",
       "      <th>Monthly_Revenue</th>\n",
       "      <th>Monthly_Profit</th>\n",
       "      <th>Churn_Flag</th>\n",
       "      <th>Renewal_Status</th>\n",
       "      <th>Signup_Date</th>\n",
       "      <th>Account_Manager</th>\n",
       "    </tr>\n",
       "  </thead>\n",
       "  <tbody>\n",
       "    <tr>\n",
       "      <th>0</th>\n",
       "      <td>CUST0001</td>\n",
       "      <td>Asia</td>\n",
       "      <td>SMB</td>\n",
       "      <td>None</td>\n",
       "      <td>8512.444030</td>\n",
       "      <td>13900.923722</td>\n",
       "      <td>1</td>\n",
       "      <td>Renewed</td>\n",
       "      <td>2021-04-25</td>\n",
       "      <td>Manager A</td>\n",
       "    </tr>\n",
       "    <tr>\n",
       "      <th>1</th>\n",
       "      <td>CUST0002</td>\n",
       "      <td>Africa</td>\n",
       "      <td>Enterprise</td>\n",
       "      <td>None</td>\n",
       "      <td>1079.532219</td>\n",
       "      <td>6869.568600</td>\n",
       "      <td>2</td>\n",
       "      <td>None</td>\n",
       "      <td>2022-09-22</td>\n",
       "      <td>Manager A</td>\n",
       "    </tr>\n",
       "    <tr>\n",
       "      <th>2</th>\n",
       "      <td>CUST0003</td>\n",
       "      <td>Europe</td>\n",
       "      <td>Enterprise</td>\n",
       "      <td>Premium</td>\n",
       "      <td>29135.540103</td>\n",
       "      <td>5518.632807</td>\n",
       "      <td>None</td>\n",
       "      <td>Renewed</td>\n",
       "      <td>NaT</td>\n",
       "      <td>Manager A</td>\n",
       "    </tr>\n",
       "    <tr>\n",
       "      <th>3</th>\n",
       "      <td>CUST0004</td>\n",
       "      <td>Africa</td>\n",
       "      <td>Enterprise</td>\n",
       "      <td>Premium</td>\n",
       "      <td>33555.782454</td>\n",
       "      <td>16091.903687</td>\n",
       "      <td>0</td>\n",
       "      <td>Renewed</td>\n",
       "      <td>2023-06-30</td>\n",
       "      <td>None</td>\n",
       "    </tr>\n",
       "    <tr>\n",
       "      <th>4</th>\n",
       "      <td>CUST0005</td>\n",
       "      <td>Africa</td>\n",
       "      <td>SMB</td>\n",
       "      <td>Enterprise</td>\n",
       "      <td>-154.020725</td>\n",
       "      <td>16107.324591</td>\n",
       "      <td>0</td>\n",
       "      <td>None</td>\n",
       "      <td>NaT</td>\n",
       "      <td>Manager C</td>\n",
       "    </tr>\n",
       "  </tbody>\n",
       "</table>\n",
       "</div>"
      ],
      "text/plain": [
       "  Customer_ID  Region Customer_Segment Subscription_Plan  Monthly_Revenue  \\\n",
       "0    CUST0001    Asia              SMB              None      8512.444030   \n",
       "1    CUST0002  Africa       Enterprise              None      1079.532219   \n",
       "2    CUST0003  Europe       Enterprise           Premium     29135.540103   \n",
       "3    CUST0004  Africa       Enterprise           Premium     33555.782454   \n",
       "4    CUST0005  Africa              SMB        Enterprise      -154.020725   \n",
       "\n",
       "   Monthly_Profit Churn_Flag Renewal_Status Signup_Date Account_Manager  \n",
       "0    13900.923722          1        Renewed  2021-04-25       Manager A  \n",
       "1     6869.568600          2           None  2022-09-22       Manager A  \n",
       "2     5518.632807       None        Renewed         NaT       Manager A  \n",
       "3    16091.903687          0        Renewed  2023-06-30            None  \n",
       "4    16107.324591          0           None         NaT       Manager C  "
      ]
     },
     "execution_count": 49,
     "metadata": {},
     "output_type": "execute_result"
    }
   ],
   "source": [
    "messy_data_df.head()"
   ]
  },
  {
   "cell_type": "code",
   "execution_count": 51,
   "id": "8e1d7e7e-39e2-4b1b-8c01-630f68000d01",
   "metadata": {},
   "outputs": [
    {
     "name": "stdout",
     "output_type": "stream",
     "text": [
      "Missing Values:\n",
      " Customer_ID           0\n",
      "Region               17\n",
      "Customer_Segment     23\n",
      "Subscription_Plan    27\n",
      "Monthly_Revenue       0\n",
      "Monthly_Profit        0\n",
      "Churn_Flag           25\n",
      "Renewal_Status       31\n",
      "Signup_Date          11\n",
      "Account_Manager      24\n",
      "dtype: int64\n",
      "Missing Percentage:\n",
      " Customer_ID           0.0\n",
      "Region               17.0\n",
      "Customer_Segment     23.0\n",
      "Subscription_Plan    27.0\n",
      "Monthly_Revenue       0.0\n",
      "Monthly_Profit        0.0\n",
      "Churn_Flag           25.0\n",
      "Renewal_Status       31.0\n",
      "Signup_Date          11.0\n",
      "Account_Manager      24.0\n",
      "dtype: float64\n"
     ]
    }
   ],
   "source": [
    "# ID missing values\n",
    "missing_counts = messy_data_df.isnull().sum()\n",
    "missing_percent = (missing_counts / len(messy_data_df))*100\n",
    "print(\"Missing Values:\\n\", missing_counts)\n",
    "print(\"Missing Percentage:\\n\", missing_percent)"
   ]
  },
  {
   "cell_type": "code",
   "execution_count": 70,
   "id": "bb84359b-70d5-4ff7-bba7-72f023085ea6",
   "metadata": {},
   "outputs": [],
   "source": [
    "# Handle categories by replacing null values with unknown\n",
    "\n",
    "messy_data_df[\"Region\"] = messy_data_df[\"Region\"].fillna(\"Unknown\")\n",
    "messy_data_df[\"Customer_Segment\"] = messy_data_df[\"Customer_Segment\"].fillna(\"Unknown\")\n",
    "messy_data_df[\"Subscription_Plan\"] = messy_data_df[\"Subscription_Plan\"].fillna(\"Unknown\")\n",
    "messy_data_df[\"Renewal_Status\"] = messy_data_df[\"Renewal_Status\"].fillna(\"Unknown\")"
   ]
  },
  {
   "cell_type": "code",
   "execution_count": 72,
   "id": "e5dc7dab-abfd-49e9-8689-60a9aa536e07",
   "metadata": {},
   "outputs": [],
   "source": [
    "# Sort out churn flag issues\n",
    "messy_data_df[\"Churn_Flag\"] = messy_data_df[\"Renewal_Status\"].apply(lambda x:1 if x == \"Churned\" else 0)\n",
    "# Now here we've applied 0 to every one other than explicit churns, but what about those with null values?"
   ]
  },
  {
   "cell_type": "code",
   "execution_count": 74,
   "id": "fe945c21-e91f-4dda-a879-9c25a8178df9",
   "metadata": {},
   "outputs": [
    {
     "data": {
      "text/plain": [
       "Customer_ID           0\n",
       "Region                0\n",
       "Customer_Segment      0\n",
       "Subscription_Plan     0\n",
       "Monthly_Revenue       0\n",
       "Monthly_Profit        0\n",
       "Churn_Flag            0\n",
       "Renewal_Status        0\n",
       "Signup_Date          11\n",
       "Account_Manager      24\n",
       "dtype: int64"
      ]
     },
     "metadata": {},
     "output_type": "display_data"
    }
   ],
   "source": [
    "missing_counts2 = messy_data_df.isnull().sum()\n",
    "display(missing_counts2)"
   ]
  },
  {
   "cell_type": "code",
   "execution_count": 76,
   "id": "ee6b3ea0-9772-48fc-b9af-1d288b169191",
   "metadata": {},
   "outputs": [],
   "source": [
    "# Filling in missing dates next. This one can be a little tricky and impact analysis further down the line\n",
    "# In this instance we're going to replace the missing dates with the median (meaning that we can't really do a meaningful time series\n",
    "# analysis)\n",
    "\n",
    "messy_data_df[\"Signup_Date\"] = pd.to_datetime(messy_data_df[\"Signup_Date\"], errors=\"coerce\")\n",
    "median_date = messy_data_df[\"Signup_Date\"].median()\n",
    "messy_data_df[\"Signup_Date\"] = messy_data_df[\"Signup_Date\"].fillna(median_date)"
   ]
  },
  {
   "cell_type": "code",
   "execution_count": 82,
   "id": "c1d82f30-94c7-487c-8ac2-9118c56897ee",
   "metadata": {},
   "outputs": [
    {
     "name": "stdout",
     "output_type": "stream",
     "text": [
      "Duplicated Customer IDs:\n",
      "\n"
     ]
    },
    {
     "data": {
      "text/html": [
       "<div>\n",
       "<style scoped>\n",
       "    .dataframe tbody tr th:only-of-type {\n",
       "        vertical-align: middle;\n",
       "    }\n",
       "\n",
       "    .dataframe tbody tr th {\n",
       "        vertical-align: top;\n",
       "    }\n",
       "\n",
       "    .dataframe thead th {\n",
       "        text-align: right;\n",
       "    }\n",
       "</style>\n",
       "<table border=\"1\" class=\"dataframe\">\n",
       "  <thead>\n",
       "    <tr style=\"text-align: right;\">\n",
       "      <th></th>\n",
       "      <th>Customer_ID</th>\n",
       "      <th>Region</th>\n",
       "      <th>Customer_Segment</th>\n",
       "      <th>Subscription_Plan</th>\n",
       "      <th>Monthly_Revenue</th>\n",
       "      <th>Monthly_Profit</th>\n",
       "      <th>Churn_Flag</th>\n",
       "      <th>Renewal_Status</th>\n",
       "      <th>Signup_Date</th>\n",
       "      <th>Account_Manager</th>\n",
       "    </tr>\n",
       "  </thead>\n",
       "  <tbody>\n",
       "  </tbody>\n",
       "</table>\n",
       "</div>"
      ],
      "text/plain": [
       "Empty DataFrame\n",
       "Columns: [Customer_ID, Region, Customer_Segment, Subscription_Plan, Monthly_Revenue, Monthly_Profit, Churn_Flag, Renewal_Status, Signup_Date, Account_Manager]\n",
       "Index: []"
      ]
     },
     "metadata": {},
     "output_type": "display_data"
    }
   ],
   "source": [
    "# checking for and removing duplicates of key information\n",
    "\n",
    "duplicates = messy_data_df.duplicated(subset=[\"Customer_ID\"], keep=False)\n",
    "print(\"Duplicated Customer IDs:\\n\")\n",
    "display(messy_data_df[duplicates])"
   ]
  },
  {
   "cell_type": "code",
   "execution_count": 84,
   "id": "d2972a6d-cf08-4cfd-974e-a4697d52858d",
   "metadata": {},
   "outputs": [
    {
     "data": {
      "text/plain": [
       "Customer_ID           0\n",
       "Region                0\n",
       "Customer_Segment      0\n",
       "Subscription_Plan     0\n",
       "Monthly_Revenue       0\n",
       "Monthly_Profit        0\n",
       "Churn_Flag            0\n",
       "Renewal_Status        0\n",
       "Signup_Date           0\n",
       "Account_Manager      24\n",
       "dtype: int64"
      ]
     },
     "metadata": {},
     "output_type": "display_data"
    }
   ],
   "source": [
    "missing_counts3 = messy_data_df.isnull().sum()\n",
    "display(missing_counts3)"
   ]
  },
  {
   "cell_type": "code",
   "execution_count": 88,
   "id": "45105236-e1c4-4d4e-b4d5-e2f0efd6de90",
   "metadata": {},
   "outputs": [
    {
     "data": {
      "text/plain": [
       "24"
      ]
     },
     "metadata": {},
     "output_type": "display_data"
    }
   ],
   "source": [
    "#okay, so heading into the last cleansing exercise I think as an exercise we'll identify and purge the data \n",
    "# where there is a missing Account Manager\n",
    "\n",
    "missing_ams = messy_data_df[\"Account_Manager\"].isnull().sum()\n",
    "display(missing_ams)"
   ]
  },
  {
   "cell_type": "code",
   "execution_count": 92,
   "id": "f47819ba-0886-4a68-8685-b21893b5aad0",
   "metadata": {},
   "outputs": [
    {
     "data": {
      "text/plain": [
       "0"
      ]
     },
     "metadata": {},
     "output_type": "display_data"
    }
   ],
   "source": [
    "cleaned_df = messy_data_df[messy_data_df[\"Account_Manager\"].notnull()]\n",
    "remaining_missing = cleaned_df[\"Account_Manager\"].isnull().sum()\n",
    "display(remaining_missing)"
   ]
  },
  {
   "cell_type": "code",
   "execution_count": 94,
   "id": "0519092f-cfe1-46e9-9ea4-b762f64dbce0",
   "metadata": {},
   "outputs": [
    {
     "name": "stdout",
     "output_type": "stream",
     "text": [
      "Original DataFrame Shape: (100, 10)\n",
      "Cleaned DataFrame Shape: (76, 10)\n"
     ]
    }
   ],
   "source": [
    "print(f\"Original DataFrame Shape: {messy_data_df.shape}\")\n",
    "print(f\"Cleaned DataFrame Shape: {cleaned_df.shape}\")"
   ]
  },
  {
   "cell_type": "code",
   "execution_count": 96,
   "id": "2cd1e80a-21d7-4bda-a275-7f1a4fb07e16",
   "metadata": {},
   "outputs": [
    {
     "name": "stdout",
     "output_type": "stream",
     "text": [
      "<class 'pandas.core.frame.DataFrame'>\n",
      "Index: 76 entries, 0 to 99\n",
      "Data columns (total 10 columns):\n",
      " #   Column             Non-Null Count  Dtype         \n",
      "---  ------             --------------  -----         \n",
      " 0   Customer_ID        76 non-null     object        \n",
      " 1   Region             76 non-null     object        \n",
      " 2   Customer_Segment   76 non-null     object        \n",
      " 3   Subscription_Plan  76 non-null     object        \n",
      " 4   Monthly_Revenue    76 non-null     float64       \n",
      " 5   Monthly_Profit     76 non-null     float64       \n",
      " 6   Churn_Flag         76 non-null     int64         \n",
      " 7   Renewal_Status     76 non-null     object        \n",
      " 8   Signup_Date        76 non-null     datetime64[ns]\n",
      " 9   Account_Manager    76 non-null     object        \n",
      "dtypes: datetime64[ns](1), float64(2), int64(1), object(6)\n",
      "memory usage: 6.5+ KB\n"
     ]
    }
   ],
   "source": [
    "cleaned_df.info()"
   ]
  },
  {
   "cell_type": "code",
   "execution_count": 98,
   "id": "2c2919cf-cc00-4e16-855c-18e48f180714",
   "metadata": {},
   "outputs": [],
   "source": [
    "cleaned_df.to_csv(\"cleaned_df_for_upload.csv\", index=False)"
   ]
  },
  {
   "cell_type": "code",
   "execution_count": null,
   "id": "7fce456c-39cb-403f-9b89-a0bac4e10116",
   "metadata": {},
   "outputs": [],
   "source": []
  }
 ],
 "metadata": {
  "kernelspec": {
   "display_name": "Python 3 (ipykernel)",
   "language": "python",
   "name": "python3"
  },
  "language_info": {
   "codemirror_mode": {
    "name": "ipython",
    "version": 3
   },
   "file_extension": ".py",
   "mimetype": "text/x-python",
   "name": "python",
   "nbconvert_exporter": "python",
   "pygments_lexer": "ipython3",
   "version": "3.12.4"
  }
 },
 "nbformat": 4,
 "nbformat_minor": 5
}
