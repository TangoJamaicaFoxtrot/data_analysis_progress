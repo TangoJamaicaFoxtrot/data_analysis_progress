{
 "cells": [
  {
   "cell_type": "code",
   "execution_count": 215,
   "id": "931c06b5-a3c4-41ae-85ac-c61e9c6dafea",
   "metadata": {},
   "outputs": [
    {
     "name": "stdout",
     "output_type": "stream",
     "text": [
      "Enhanced customer data saved as 'vertice_customer_data_enhanced.csv'\n"
     ]
    }
   ],
   "source": [
    "import pandas as pd\n",
    "import numpy as np\n",
    "import random\n",
    "import matplotlib.pyplot as plt\n",
    "import seaborn as sns\n",
    "import plotly.express as px\n",
    "\n",
    "# Define categories based on Vertice's offerings\n",
    "products = [\"SaaS Purchasing\", \"Cloud Cost Optimization\", \"Intelligent Workflows\"]\n",
    "regions = [\"North America\", \"Europe\", \"Asia-Pacific\", \"Latin America\", \"Middle East & Africa\"]\n",
    "industries = [\"Technology\", \"Finance\", \"Healthcare\", \"Retail\", \"Manufacturing\"]\n",
    "customer_segments = [\"SMB\", \"Mid-Market\", \"Enterprise\"]\n",
    "onboarding_status = [\"Completed\", \"In Progress\", \"Pending\"]\n",
    "contract_accuracy_status = [\"Verified\", \"Pending Verification\", \"Needs Attention\"]\n",
    "support_case_status = [\"Open\", \"Closed\", \"Pending\"]\n",
    "renewal_status = [\"Renewed\", \"Churned\", \"Pending\"]\n",
    "\n",
    "# Set the number of records\n",
    "num_records = 500\n",
    "\n",
    "# Generate random data\n",
    "np.random.seed(42)\n",
    "data = {\n",
    "    \"Customer_ID\": [f\"CUST{i:05d}\" for i in range(1, num_records + 1)],\n",
    "    \"Product\": np.random.choice(products, num_records),\n",
    "    \"Region\": np.random.choice(regions, num_records),\n",
    "    \"Industry\": np.random.choice(industries, num_records),\n",
    "    \"Customer_Segment\": np.random.choice(customer_segments, num_records),\n",
    "    \"Monthly_Spend\": np.random.uniform(1000, 50000, num_records).round(2),\n",
    "    \"Savings_Achieved\": np.random.uniform(500, 20000, num_records).round(2),\n",
    "    \"Engagement_Score\": np.random.randint(1, 100, num_records),\n",
    "    \"Onboarding_Date\": [pd.Timestamp(\"2023-01-01\") + pd.to_timedelta(random.randint(0, 365), unit=\"d\") for _ in range(num_records)],\n",
    "    \"Onboarding_Status\": np.random.choice(onboarding_status, num_records),\n",
    "    \"Contract_Accuracy_Status\": np.random.choice(contract_accuracy_status, num_records),\n",
    "    \"Support_Case_Status\": np.random.choice(support_case_status, num_records),\n",
    "    \"Interactions_Logged\": np.random.randint(1, 50, num_records),\n",
    "    \"Data_Issues_Flagged\": np.random.randint(0, 10, num_records),\n",
    "    \"Bugs_Escalated\": np.random.randint(0, 5, num_records),\n",
    "    \"CSAT_Score\": np.random.randint(1, 10, num_records),  # CSAT score from 1 to 10\n",
    "    \"Renewal_Status\": np.random.choice(renewal_status, num_records),\n",
    "    \"Churn_Flag\": lambda: 1 if random.random() < 0.3 else 0  # 30% churn rate\n",
    "}\n",
    "\n",
    "# Convert the churn flag column into random binary values\n",
    "data[\"Churn_Flag\"] = np.random.choice([0, 1], num_records, p=[0.7, 0.3])  # 30% churn rate\n",
    "\n",
    "# Create DataFrame\n",
    "df = pd.DataFrame(data)\n",
    "\n",
    "# Save to CSV\n",
    "df.to_csv(\"vertice_customer_data_enhanced.csv\", index=False)\n",
    "print(\"Enhanced customer data saved as 'vertice_customer_data_enhanced.csv'\")\n"
   ]
  },
  {
   "cell_type": "code",
   "execution_count": 216,
   "id": "cb5c1e71-7de5-439c-abb8-eb996c437235",
   "metadata": {},
   "outputs": [
    {
     "data": {
      "text/html": [
       "<div>\n",
       "<style scoped>\n",
       "    .dataframe tbody tr th:only-of-type {\n",
       "        vertical-align: middle;\n",
       "    }\n",
       "\n",
       "    .dataframe tbody tr th {\n",
       "        vertical-align: top;\n",
       "    }\n",
       "\n",
       "    .dataframe thead th {\n",
       "        text-align: right;\n",
       "    }\n",
       "</style>\n",
       "<table border=\"1\" class=\"dataframe\">\n",
       "  <thead>\n",
       "    <tr style=\"text-align: right;\">\n",
       "      <th></th>\n",
       "      <th>Customer_ID</th>\n",
       "      <th>Product</th>\n",
       "      <th>Region</th>\n",
       "      <th>Industry</th>\n",
       "      <th>Customer_Segment</th>\n",
       "      <th>Monthly_Spend</th>\n",
       "      <th>Savings_Achieved</th>\n",
       "      <th>Engagement_Score</th>\n",
       "      <th>Onboarding_Date</th>\n",
       "      <th>Onboarding_Status</th>\n",
       "      <th>Contract_Accuracy_Status</th>\n",
       "      <th>Support_Case_Status</th>\n",
       "      <th>Interactions_Logged</th>\n",
       "      <th>Data_Issues_Flagged</th>\n",
       "      <th>Bugs_Escalated</th>\n",
       "      <th>CSAT_Score</th>\n",
       "      <th>Renewal_Status</th>\n",
       "      <th>Churn_Flag</th>\n",
       "    </tr>\n",
       "  </thead>\n",
       "  <tbody>\n",
       "    <tr>\n",
       "      <th>0</th>\n",
       "      <td>CUST00001</td>\n",
       "      <td>Intelligent Workflows</td>\n",
       "      <td>Europe</td>\n",
       "      <td>Manufacturing</td>\n",
       "      <td>SMB</td>\n",
       "      <td>49971.27</td>\n",
       "      <td>11651.51</td>\n",
       "      <td>19</td>\n",
       "      <td>2023-10-11</td>\n",
       "      <td>Completed</td>\n",
       "      <td>Verified</td>\n",
       "      <td>Closed</td>\n",
       "      <td>45</td>\n",
       "      <td>7</td>\n",
       "      <td>2</td>\n",
       "      <td>3</td>\n",
       "      <td>Pending</td>\n",
       "      <td>0</td>\n",
       "    </tr>\n",
       "    <tr>\n",
       "      <th>1</th>\n",
       "      <td>CUST00002</td>\n",
       "      <td>SaaS Purchasing</td>\n",
       "      <td>Europe</td>\n",
       "      <td>Manufacturing</td>\n",
       "      <td>Enterprise</td>\n",
       "      <td>3362.39</td>\n",
       "      <td>11961.50</td>\n",
       "      <td>37</td>\n",
       "      <td>2023-10-24</td>\n",
       "      <td>Pending</td>\n",
       "      <td>Needs Attention</td>\n",
       "      <td>Closed</td>\n",
       "      <td>37</td>\n",
       "      <td>4</td>\n",
       "      <td>0</td>\n",
       "      <td>1</td>\n",
       "      <td>Renewed</td>\n",
       "      <td>0</td>\n",
       "    </tr>\n",
       "    <tr>\n",
       "      <th>2</th>\n",
       "      <td>CUST00003</td>\n",
       "      <td>Intelligent Workflows</td>\n",
       "      <td>Asia-Pacific</td>\n",
       "      <td>Healthcare</td>\n",
       "      <td>Enterprise</td>\n",
       "      <td>48881.54</td>\n",
       "      <td>4097.29</td>\n",
       "      <td>85</td>\n",
       "      <td>2023-10-20</td>\n",
       "      <td>Completed</td>\n",
       "      <td>Verified</td>\n",
       "      <td>Pending</td>\n",
       "      <td>45</td>\n",
       "      <td>9</td>\n",
       "      <td>2</td>\n",
       "      <td>1</td>\n",
       "      <td>Pending</td>\n",
       "      <td>0</td>\n",
       "    </tr>\n",
       "    <tr>\n",
       "      <th>3</th>\n",
       "      <td>CUST00004</td>\n",
       "      <td>Intelligent Workflows</td>\n",
       "      <td>Europe</td>\n",
       "      <td>Healthcare</td>\n",
       "      <td>Mid-Market</td>\n",
       "      <td>20938.49</td>\n",
       "      <td>7563.59</td>\n",
       "      <td>8</td>\n",
       "      <td>2023-11-10</td>\n",
       "      <td>In Progress</td>\n",
       "      <td>Verified</td>\n",
       "      <td>Open</td>\n",
       "      <td>38</td>\n",
       "      <td>4</td>\n",
       "      <td>0</td>\n",
       "      <td>1</td>\n",
       "      <td>Churned</td>\n",
       "      <td>0</td>\n",
       "    </tr>\n",
       "    <tr>\n",
       "      <th>4</th>\n",
       "      <td>CUST00005</td>\n",
       "      <td>SaaS Purchasing</td>\n",
       "      <td>North America</td>\n",
       "      <td>Finance</td>\n",
       "      <td>Enterprise</td>\n",
       "      <td>43666.92</td>\n",
       "      <td>7022.97</td>\n",
       "      <td>28</td>\n",
       "      <td>2023-10-26</td>\n",
       "      <td>Pending</td>\n",
       "      <td>Needs Attention</td>\n",
       "      <td>Pending</td>\n",
       "      <td>29</td>\n",
       "      <td>1</td>\n",
       "      <td>0</td>\n",
       "      <td>8</td>\n",
       "      <td>Pending</td>\n",
       "      <td>0</td>\n",
       "    </tr>\n",
       "  </tbody>\n",
       "</table>\n",
       "</div>"
      ],
      "text/plain": [
       "  Customer_ID                Product         Region       Industry  \\\n",
       "0   CUST00001  Intelligent Workflows         Europe  Manufacturing   \n",
       "1   CUST00002        SaaS Purchasing         Europe  Manufacturing   \n",
       "2   CUST00003  Intelligent Workflows   Asia-Pacific     Healthcare   \n",
       "3   CUST00004  Intelligent Workflows         Europe     Healthcare   \n",
       "4   CUST00005        SaaS Purchasing  North America        Finance   \n",
       "\n",
       "  Customer_Segment  Monthly_Spend  Savings_Achieved  Engagement_Score  \\\n",
       "0              SMB       49971.27          11651.51                19   \n",
       "1       Enterprise        3362.39          11961.50                37   \n",
       "2       Enterprise       48881.54           4097.29                85   \n",
       "3       Mid-Market       20938.49           7563.59                 8   \n",
       "4       Enterprise       43666.92           7022.97                28   \n",
       "\n",
       "  Onboarding_Date Onboarding_Status Contract_Accuracy_Status  \\\n",
       "0      2023-10-11         Completed                 Verified   \n",
       "1      2023-10-24           Pending          Needs Attention   \n",
       "2      2023-10-20         Completed                 Verified   \n",
       "3      2023-11-10       In Progress                 Verified   \n",
       "4      2023-10-26           Pending          Needs Attention   \n",
       "\n",
       "  Support_Case_Status  Interactions_Logged  Data_Issues_Flagged  \\\n",
       "0              Closed                   45                    7   \n",
       "1              Closed                   37                    4   \n",
       "2             Pending                   45                    9   \n",
       "3                Open                   38                    4   \n",
       "4             Pending                   29                    1   \n",
       "\n",
       "   Bugs_Escalated  CSAT_Score Renewal_Status  Churn_Flag  \n",
       "0               2           3        Pending           0  \n",
       "1               0           1        Renewed           0  \n",
       "2               2           1        Pending           0  \n",
       "3               0           1        Churned           0  \n",
       "4               0           8        Pending           0  "
      ]
     },
     "execution_count": 216,
     "metadata": {},
     "output_type": "execute_result"
    }
   ],
   "source": [
    "vertice_df = pd.read_csv(\"vertice_customer_data_enhanced.csv\")\n",
    "vertice_df.head()"
   ]
  },
  {
   "cell_type": "code",
   "execution_count": 219,
   "id": "8ce74f3a-6c7a-4407-bd52-16407e0a78e5",
   "metadata": {},
   "outputs": [
    {
     "data": {
      "text/html": [
       "<div>\n",
       "<style scoped>\n",
       "    .dataframe tbody tr th:only-of-type {\n",
       "        vertical-align: middle;\n",
       "    }\n",
       "\n",
       "    .dataframe tbody tr th {\n",
       "        vertical-align: top;\n",
       "    }\n",
       "\n",
       "    .dataframe thead th {\n",
       "        text-align: right;\n",
       "    }\n",
       "</style>\n",
       "<table border=\"1\" class=\"dataframe\">\n",
       "  <thead>\n",
       "    <tr style=\"text-align: right;\">\n",
       "      <th></th>\n",
       "      <th>Avg_Interactions_Logged</th>\n",
       "      <th>Avg_Data_Issues_Flagged</th>\n",
       "      <th>Avg_Engagement_Score</th>\n",
       "      <th>Avg_Bugs_Escalated</th>\n",
       "    </tr>\n",
       "    <tr>\n",
       "      <th>CSAT_Score</th>\n",
       "      <th></th>\n",
       "      <th></th>\n",
       "      <th></th>\n",
       "      <th></th>\n",
       "    </tr>\n",
       "  </thead>\n",
       "  <tbody>\n",
       "    <tr>\n",
       "      <th>1</th>\n",
       "      <td>22.944444</td>\n",
       "      <td>4.148148</td>\n",
       "      <td>43.018519</td>\n",
       "      <td>1.981481</td>\n",
       "    </tr>\n",
       "    <tr>\n",
       "      <th>2</th>\n",
       "      <td>27.581818</td>\n",
       "      <td>4.363636</td>\n",
       "      <td>49.454545</td>\n",
       "      <td>2.090909</td>\n",
       "    </tr>\n",
       "    <tr>\n",
       "      <th>3</th>\n",
       "      <td>21.604167</td>\n",
       "      <td>4.458333</td>\n",
       "      <td>48.916667</td>\n",
       "      <td>1.395833</td>\n",
       "    </tr>\n",
       "    <tr>\n",
       "      <th>4</th>\n",
       "      <td>26.887097</td>\n",
       "      <td>4.483871</td>\n",
       "      <td>50.919355</td>\n",
       "      <td>2.209677</td>\n",
       "    </tr>\n",
       "    <tr>\n",
       "      <th>5</th>\n",
       "      <td>24.800000</td>\n",
       "      <td>5.123077</td>\n",
       "      <td>56.830769</td>\n",
       "      <td>1.692308</td>\n",
       "    </tr>\n",
       "    <tr>\n",
       "      <th>6</th>\n",
       "      <td>28.800000</td>\n",
       "      <td>5.140000</td>\n",
       "      <td>48.320000</td>\n",
       "      <td>1.720000</td>\n",
       "    </tr>\n",
       "    <tr>\n",
       "      <th>7</th>\n",
       "      <td>24.213115</td>\n",
       "      <td>4.163934</td>\n",
       "      <td>44.196721</td>\n",
       "      <td>2.049180</td>\n",
       "    </tr>\n",
       "    <tr>\n",
       "      <th>8</th>\n",
       "      <td>22.789474</td>\n",
       "      <td>4.964912</td>\n",
       "      <td>47.035088</td>\n",
       "      <td>1.736842</td>\n",
       "    </tr>\n",
       "    <tr>\n",
       "      <th>9</th>\n",
       "      <td>24.291667</td>\n",
       "      <td>4.187500</td>\n",
       "      <td>47.541667</td>\n",
       "      <td>1.979167</td>\n",
       "    </tr>\n",
       "  </tbody>\n",
       "</table>\n",
       "</div>"
      ],
      "text/plain": [
       "            Avg_Interactions_Logged  Avg_Data_Issues_Flagged  \\\n",
       "CSAT_Score                                                     \n",
       "1                         22.944444                 4.148148   \n",
       "2                         27.581818                 4.363636   \n",
       "3                         21.604167                 4.458333   \n",
       "4                         26.887097                 4.483871   \n",
       "5                         24.800000                 5.123077   \n",
       "6                         28.800000                 5.140000   \n",
       "7                         24.213115                 4.163934   \n",
       "8                         22.789474                 4.964912   \n",
       "9                         24.291667                 4.187500   \n",
       "\n",
       "            Avg_Engagement_Score  Avg_Bugs_Escalated  \n",
       "CSAT_Score                                            \n",
       "1                      43.018519            1.981481  \n",
       "2                      49.454545            2.090909  \n",
       "3                      48.916667            1.395833  \n",
       "4                      50.919355            2.209677  \n",
       "5                      56.830769            1.692308  \n",
       "6                      48.320000            1.720000  \n",
       "7                      44.196721            2.049180  \n",
       "8                      47.035088            1.736842  \n",
       "9                      47.541667            1.979167  "
      ]
     },
     "metadata": {},
     "output_type": "display_data"
    }
   ],
   "source": [
    "# first up we're going to have a look at what (if any) customer metrics impact CSAT score\n",
    "\n",
    "CSAT_overview = vertice_df.groupby(\"CSAT_Score\").agg({\n",
    "    \"Interactions_Logged\":\"mean\",\n",
    "    \"Data_Issues_Flagged\":\"mean\",\n",
    "    \"Engagement_Score\":\"mean\",\n",
    "    \"Bugs_Escalated\":\"mean\"\n",
    "}).rename(columns={\n",
    "    \"Interactions_Logged\":\"Avg_Interactions_Logged\",\n",
    "    \"Data_Issues_Flagged\":\"Avg_Data_Issues_Flagged\",\n",
    "    \"Engagement_Score\":\"Avg_Engagement_Score\",\n",
    "    \"Bugs_Escalated\":\"Avg_Bugs_Escalated\"\n",
    "})\n",
    "display(CSAT_overview)\n",
    "\n",
    "# working with random data is pretty sure to yield some random results"
   ]
  },
  {
   "cell_type": "code",
   "execution_count": 221,
   "id": "63ceb38a-8e4c-4195-8a8d-2c1fa1fceab7",
   "metadata": {},
   "outputs": [
    {
     "data": {
      "image/png": "[encoded data removed]",
      "text/plain": [
       "<Figure size 1200x600 with 1 Axes>"
      ]
     },
     "metadata": {},
     "output_type": "display_data"
    }
   ],
   "source": [
    "CSAT_overview[\"Avg_Interactions_Logged\"].plot(kind=\"bar\", figsize=(12,6), color=\"purple\")\n",
    "plt.title(\"Average Interactions for Each Level of Customer Satisfaction\")\n",
    "plt.ylabel(\"Number of Interactions\")\n",
    "plt.xlabel(\"CSAT Score\")\n",
    "plt.xticks(rotation=0)\n",
    "plt.show()\n",
    "\n",
    "# notice Vertice purple"
   ]
  },
  {
   "cell_type": "code",
   "execution_count": 222,
   "id": "6f9e74cf-7add-4c67-bd4a-fac9c0605dd3",
   "metadata": {},
   "outputs": [
    {
     "data": {
      "image/png": "[encoded data removed]",
      "text/plain": [
       "<Figure size 1200x600 with 1 Axes>"
      ]
     },
     "metadata": {},
     "output_type": "display_data"
    }
   ],
   "source": [
    "CSAT_overview[\"Avg_Data_Issues_Flagged\"].plot(kind=\"bar\", figsize=(12,6), color=\"purple\")\n",
    "plt.title(\"Average Data Issues Flagged for Each Level of Customer Satisfaction\")\n",
    "plt.ylabel(\"Number of Data Issues Flagged\")\n",
    "plt.xlabel(\"CSAT Score\")\n",
    "plt.xticks(rotation=0)\n",
    "plt.show()\n",
    "\n",
    "# In the interest of the brevity of this notebook we will move on to a new analysis"
   ]
  },
  {
   "cell_type": "code",
   "execution_count": 224,
   "id": "3002409e-b826-41f9-9b77-bf9aeeb47499",
   "metadata": {},
   "outputs": [
    {
     "data": {
      "text/html": [
       "<div>\n",
       "<style scoped>\n",
       "    .dataframe tbody tr th:only-of-type {\n",
       "        vertical-align: middle;\n",
       "    }\n",
       "\n",
       "    .dataframe tbody tr th {\n",
       "        vertical-align: top;\n",
       "    }\n",
       "\n",
       "    .dataframe thead th {\n",
       "        text-align: right;\n",
       "    }\n",
       "</style>\n",
       "<table border=\"1\" class=\"dataframe\">\n",
       "  <thead>\n",
       "    <tr style=\"text-align: right;\">\n",
       "      <th></th>\n",
       "      <th>Customer_ID</th>\n",
       "      <th>Product</th>\n",
       "      <th>Region</th>\n",
       "      <th>Industry</th>\n",
       "      <th>Customer_Segment</th>\n",
       "      <th>Monthly_Spend</th>\n",
       "      <th>Savings_Achieved</th>\n",
       "      <th>Engagement_Score</th>\n",
       "      <th>Onboarding_Date</th>\n",
       "      <th>Onboarding_Status</th>\n",
       "      <th>Contract_Accuracy_Status</th>\n",
       "      <th>Support_Case_Status</th>\n",
       "      <th>Interactions_Logged</th>\n",
       "      <th>Data_Issues_Flagged</th>\n",
       "      <th>Bugs_Escalated</th>\n",
       "      <th>CSAT_Score</th>\n",
       "      <th>Renewal_Status</th>\n",
       "      <th>Churn_Flag</th>\n",
       "    </tr>\n",
       "  </thead>\n",
       "  <tbody>\n",
       "    <tr>\n",
       "      <th>0</th>\n",
       "      <td>CUST00001</td>\n",
       "      <td>Intelligent Workflows</td>\n",
       "      <td>Europe</td>\n",
       "      <td>Manufacturing</td>\n",
       "      <td>SMB</td>\n",
       "      <td>49971.27</td>\n",
       "      <td>11651.51</td>\n",
       "      <td>19</td>\n",
       "      <td>2023-10-11</td>\n",
       "      <td>Completed</td>\n",
       "      <td>Verified</td>\n",
       "      <td>Closed</td>\n",
       "      <td>45</td>\n",
       "      <td>7</td>\n",
       "      <td>2</td>\n",
       "      <td>3</td>\n",
       "      <td>Pending</td>\n",
       "      <td>0</td>\n",
       "    </tr>\n",
       "    <tr>\n",
       "      <th>1</th>\n",
       "      <td>CUST00002</td>\n",
       "      <td>SaaS Purchasing</td>\n",
       "      <td>Europe</td>\n",
       "      <td>Manufacturing</td>\n",
       "      <td>Enterprise</td>\n",
       "      <td>3362.39</td>\n",
       "      <td>11961.50</td>\n",
       "      <td>37</td>\n",
       "      <td>2023-10-24</td>\n",
       "      <td>Pending</td>\n",
       "      <td>Needs Attention</td>\n",
       "      <td>Closed</td>\n",
       "      <td>37</td>\n",
       "      <td>4</td>\n",
       "      <td>0</td>\n",
       "      <td>1</td>\n",
       "      <td>Renewed</td>\n",
       "      <td>0</td>\n",
       "    </tr>\n",
       "    <tr>\n",
       "      <th>2</th>\n",
       "      <td>CUST00003</td>\n",
       "      <td>Intelligent Workflows</td>\n",
       "      <td>Asia-Pacific</td>\n",
       "      <td>Healthcare</td>\n",
       "      <td>Enterprise</td>\n",
       "      <td>48881.54</td>\n",
       "      <td>4097.29</td>\n",
       "      <td>85</td>\n",
       "      <td>2023-10-20</td>\n",
       "      <td>Completed</td>\n",
       "      <td>Verified</td>\n",
       "      <td>Pending</td>\n",
       "      <td>45</td>\n",
       "      <td>9</td>\n",
       "      <td>2</td>\n",
       "      <td>1</td>\n",
       "      <td>Pending</td>\n",
       "      <td>0</td>\n",
       "    </tr>\n",
       "    <tr>\n",
       "      <th>3</th>\n",
       "      <td>CUST00004</td>\n",
       "      <td>Intelligent Workflows</td>\n",
       "      <td>Europe</td>\n",
       "      <td>Healthcare</td>\n",
       "      <td>Mid-Market</td>\n",
       "      <td>20938.49</td>\n",
       "      <td>7563.59</td>\n",
       "      <td>8</td>\n",
       "      <td>2023-11-10</td>\n",
       "      <td>In Progress</td>\n",
       "      <td>Verified</td>\n",
       "      <td>Open</td>\n",
       "      <td>38</td>\n",
       "      <td>4</td>\n",
       "      <td>0</td>\n",
       "      <td>1</td>\n",
       "      <td>Churned</td>\n",
       "      <td>0</td>\n",
       "    </tr>\n",
       "    <tr>\n",
       "      <th>4</th>\n",
       "      <td>CUST00005</td>\n",
       "      <td>SaaS Purchasing</td>\n",
       "      <td>North America</td>\n",
       "      <td>Finance</td>\n",
       "      <td>Enterprise</td>\n",
       "      <td>43666.92</td>\n",
       "      <td>7022.97</td>\n",
       "      <td>28</td>\n",
       "      <td>2023-10-26</td>\n",
       "      <td>Pending</td>\n",
       "      <td>Needs Attention</td>\n",
       "      <td>Pending</td>\n",
       "      <td>29</td>\n",
       "      <td>1</td>\n",
       "      <td>0</td>\n",
       "      <td>8</td>\n",
       "      <td>Pending</td>\n",
       "      <td>0</td>\n",
       "    </tr>\n",
       "  </tbody>\n",
       "</table>\n",
       "</div>"
      ],
      "text/plain": [
       "  Customer_ID                Product         Region       Industry  \\\n",
       "0   CUST00001  Intelligent Workflows         Europe  Manufacturing   \n",
       "1   CUST00002        SaaS Purchasing         Europe  Manufacturing   \n",
       "2   CUST00003  Intelligent Workflows   Asia-Pacific     Healthcare   \n",
       "3   CUST00004  Intelligent Workflows         Europe     Healthcare   \n",
       "4   CUST00005        SaaS Purchasing  North America        Finance   \n",
       "\n",
       "  Customer_Segment  Monthly_Spend  Savings_Achieved  Engagement_Score  \\\n",
       "0              SMB       49971.27          11651.51                19   \n",
       "1       Enterprise        3362.39          11961.50                37   \n",
       "2       Enterprise       48881.54           4097.29                85   \n",
       "3       Mid-Market       20938.49           7563.59                 8   \n",
       "4       Enterprise       43666.92           7022.97                28   \n",
       "\n",
       "  Onboarding_Date Onboarding_Status Contract_Accuracy_Status  \\\n",
       "0      2023-10-11         Completed                 Verified   \n",
       "1      2023-10-24           Pending          Needs Attention   \n",
       "2      2023-10-20         Completed                 Verified   \n",
       "3      2023-11-10       In Progress                 Verified   \n",
       "4      2023-10-26           Pending          Needs Attention   \n",
       "\n",
       "  Support_Case_Status  Interactions_Logged  Data_Issues_Flagged  \\\n",
       "0              Closed                   45                    7   \n",
       "1              Closed                   37                    4   \n",
       "2             Pending                   45                    9   \n",
       "3                Open                   38                    4   \n",
       "4             Pending                   29                    1   \n",
       "\n",
       "   Bugs_Escalated  CSAT_Score Renewal_Status  Churn_Flag  \n",
       "0               2           3        Pending           0  \n",
       "1               0           1        Renewed           0  \n",
       "2               2           1        Pending           0  \n",
       "3               0           1        Churned           0  \n",
       "4               0           8        Pending           0  "
      ]
     },
     "execution_count": 224,
     "metadata": {},
     "output_type": "execute_result"
    }
   ],
   "source": [
    "vertice_df.head()"
   ]
  },
  {
   "cell_type": "code",
   "execution_count": 227,
   "id": "e568a732-2926-48a2-9183-e1cc530cc825",
   "metadata": {},
   "outputs": [],
   "source": [
    "# Original df didn't assign 1/0 to cells correctly. Need to ensure if Churned then Churn Flag = 1\n",
    "vertice_df[\"Churn_Flag\"] = vertice_df[\"Renewal_Status\"].apply(lambda x:1 if x == \"Churned\" else 0)"
   ]
  },
  {
   "cell_type": "code",
   "execution_count": 229,
   "id": "865cc104-cf47-4bcb-afad-41c81c706a0b",
   "metadata": {},
   "outputs": [
    {
     "data": {
      "text/html": [
       "<div>\n",
       "<style scoped>\n",
       "    .dataframe tbody tr th:only-of-type {\n",
       "        vertical-align: middle;\n",
       "    }\n",
       "\n",
       "    .dataframe tbody tr th {\n",
       "        vertical-align: top;\n",
       "    }\n",
       "\n",
       "    .dataframe thead th {\n",
       "        text-align: right;\n",
       "    }\n",
       "</style>\n",
       "<table border=\"1\" class=\"dataframe\">\n",
       "  <thead>\n",
       "    <tr style=\"text-align: right;\">\n",
       "      <th></th>\n",
       "      <th></th>\n",
       "      <th></th>\n",
       "      <th>Count_of_Churned_Customers</th>\n",
       "      <th>Avg_CSAT_Score</th>\n",
       "    </tr>\n",
       "    <tr>\n",
       "      <th>Region</th>\n",
       "      <th>Customer_Segment</th>\n",
       "      <th>Product</th>\n",
       "      <th></th>\n",
       "      <th></th>\n",
       "    </tr>\n",
       "  </thead>\n",
       "  <tbody>\n",
       "    <tr>\n",
       "      <th rowspan=\"9\" valign=\"top\">Asia-Pacific</th>\n",
       "      <th rowspan=\"3\" valign=\"top\">Enterprise</th>\n",
       "      <th>Cloud Cost Optimization</th>\n",
       "      <td>12</td>\n",
       "      <td>5.000000</td>\n",
       "    </tr>\n",
       "    <tr>\n",
       "      <th>Intelligent Workflows</th>\n",
       "      <td>9</td>\n",
       "      <td>6.000000</td>\n",
       "    </tr>\n",
       "    <tr>\n",
       "      <th>SaaS Purchasing</th>\n",
       "      <td>9</td>\n",
       "      <td>5.222222</td>\n",
       "    </tr>\n",
       "    <tr>\n",
       "      <th rowspan=\"3\" valign=\"top\">Mid-Market</th>\n",
       "      <th>Cloud Cost Optimization</th>\n",
       "      <td>11</td>\n",
       "      <td>5.636364</td>\n",
       "    </tr>\n",
       "    <tr>\n",
       "      <th>Intelligent Workflows</th>\n",
       "      <td>8</td>\n",
       "      <td>5.125000</td>\n",
       "    </tr>\n",
       "    <tr>\n",
       "      <th>SaaS Purchasing</th>\n",
       "      <td>10</td>\n",
       "      <td>4.900000</td>\n",
       "    </tr>\n",
       "    <tr>\n",
       "      <th rowspan=\"3\" valign=\"top\">SMB</th>\n",
       "      <th>Cloud Cost Optimization</th>\n",
       "      <td>13</td>\n",
       "      <td>4.923077</td>\n",
       "    </tr>\n",
       "    <tr>\n",
       "      <th>Intelligent Workflows</th>\n",
       "      <td>10</td>\n",
       "      <td>5.700000</td>\n",
       "    </tr>\n",
       "    <tr>\n",
       "      <th>SaaS Purchasing</th>\n",
       "      <td>13</td>\n",
       "      <td>4.538462</td>\n",
       "    </tr>\n",
       "    <tr>\n",
       "      <th rowspan=\"9\" valign=\"top\">Europe</th>\n",
       "      <th rowspan=\"3\" valign=\"top\">Enterprise</th>\n",
       "      <th>Cloud Cost Optimization</th>\n",
       "      <td>9</td>\n",
       "      <td>4.777778</td>\n",
       "    </tr>\n",
       "    <tr>\n",
       "      <th>Intelligent Workflows</th>\n",
       "      <td>9</td>\n",
       "      <td>3.333333</td>\n",
       "    </tr>\n",
       "    <tr>\n",
       "      <th>SaaS Purchasing</th>\n",
       "      <td>12</td>\n",
       "      <td>4.666667</td>\n",
       "    </tr>\n",
       "    <tr>\n",
       "      <th rowspan=\"3\" valign=\"top\">Mid-Market</th>\n",
       "      <th>Cloud Cost Optimization</th>\n",
       "      <td>12</td>\n",
       "      <td>5.583333</td>\n",
       "    </tr>\n",
       "    <tr>\n",
       "      <th>Intelligent Workflows</th>\n",
       "      <td>15</td>\n",
       "      <td>4.866667</td>\n",
       "    </tr>\n",
       "    <tr>\n",
       "      <th>SaaS Purchasing</th>\n",
       "      <td>8</td>\n",
       "      <td>6.125000</td>\n",
       "    </tr>\n",
       "    <tr>\n",
       "      <th rowspan=\"3\" valign=\"top\">SMB</th>\n",
       "      <th>Cloud Cost Optimization</th>\n",
       "      <td>12</td>\n",
       "      <td>5.000000</td>\n",
       "    </tr>\n",
       "    <tr>\n",
       "      <th>Intelligent Workflows</th>\n",
       "      <td>9</td>\n",
       "      <td>4.000000</td>\n",
       "    </tr>\n",
       "    <tr>\n",
       "      <th>SaaS Purchasing</th>\n",
       "      <td>12</td>\n",
       "      <td>5.833333</td>\n",
       "    </tr>\n",
       "    <tr>\n",
       "      <th rowspan=\"9\" valign=\"top\">Latin America</th>\n",
       "      <th rowspan=\"3\" valign=\"top\">Enterprise</th>\n",
       "      <th>Cloud Cost Optimization</th>\n",
       "      <td>10</td>\n",
       "      <td>3.200000</td>\n",
       "    </tr>\n",
       "    <tr>\n",
       "      <th>Intelligent Workflows</th>\n",
       "      <td>5</td>\n",
       "      <td>2.800000</td>\n",
       "    </tr>\n",
       "    <tr>\n",
       "      <th>SaaS Purchasing</th>\n",
       "      <td>10</td>\n",
       "      <td>3.800000</td>\n",
       "    </tr>\n",
       "    <tr>\n",
       "      <th rowspan=\"3\" valign=\"top\">Mid-Market</th>\n",
       "      <th>Cloud Cost Optimization</th>\n",
       "      <td>13</td>\n",
       "      <td>5.615385</td>\n",
       "    </tr>\n",
       "    <tr>\n",
       "      <th>Intelligent Workflows</th>\n",
       "      <td>15</td>\n",
       "      <td>4.333333</td>\n",
       "    </tr>\n",
       "    <tr>\n",
       "      <th>SaaS Purchasing</th>\n",
       "      <td>15</td>\n",
       "      <td>4.600000</td>\n",
       "    </tr>\n",
       "    <tr>\n",
       "      <th rowspan=\"3\" valign=\"top\">SMB</th>\n",
       "      <th>Cloud Cost Optimization</th>\n",
       "      <td>8</td>\n",
       "      <td>6.875000</td>\n",
       "    </tr>\n",
       "    <tr>\n",
       "      <th>Intelligent Workflows</th>\n",
       "      <td>11</td>\n",
       "      <td>5.000000</td>\n",
       "    </tr>\n",
       "    <tr>\n",
       "      <th>SaaS Purchasing</th>\n",
       "      <td>6</td>\n",
       "      <td>3.166667</td>\n",
       "    </tr>\n",
       "    <tr>\n",
       "      <th rowspan=\"9\" valign=\"top\">Middle East &amp; Africa</th>\n",
       "      <th rowspan=\"3\" valign=\"top\">Enterprise</th>\n",
       "      <th>Cloud Cost Optimization</th>\n",
       "      <td>11</td>\n",
       "      <td>4.545455</td>\n",
       "    </tr>\n",
       "    <tr>\n",
       "      <th>Intelligent Workflows</th>\n",
       "      <td>15</td>\n",
       "      <td>5.600000</td>\n",
       "    </tr>\n",
       "    <tr>\n",
       "      <th>SaaS Purchasing</th>\n",
       "      <td>12</td>\n",
       "      <td>5.833333</td>\n",
       "    </tr>\n",
       "    <tr>\n",
       "      <th rowspan=\"3\" valign=\"top\">Mid-Market</th>\n",
       "      <th>Cloud Cost Optimization</th>\n",
       "      <td>8</td>\n",
       "      <td>5.375000</td>\n",
       "    </tr>\n",
       "    <tr>\n",
       "      <th>Intelligent Workflows</th>\n",
       "      <td>13</td>\n",
       "      <td>4.538462</td>\n",
       "    </tr>\n",
       "    <tr>\n",
       "      <th>SaaS Purchasing</th>\n",
       "      <td>13</td>\n",
       "      <td>6.000000</td>\n",
       "    </tr>\n",
       "    <tr>\n",
       "      <th rowspan=\"3\" valign=\"top\">SMB</th>\n",
       "      <th>Cloud Cost Optimization</th>\n",
       "      <td>11</td>\n",
       "      <td>6.272727</td>\n",
       "    </tr>\n",
       "    <tr>\n",
       "      <th>Intelligent Workflows</th>\n",
       "      <td>11</td>\n",
       "      <td>4.545455</td>\n",
       "    </tr>\n",
       "    <tr>\n",
       "      <th>SaaS Purchasing</th>\n",
       "      <td>15</td>\n",
       "      <td>6.066667</td>\n",
       "    </tr>\n",
       "    <tr>\n",
       "      <th rowspan=\"9\" valign=\"top\">North America</th>\n",
       "      <th rowspan=\"3\" valign=\"top\">Enterprise</th>\n",
       "      <th>Cloud Cost Optimization</th>\n",
       "      <td>9</td>\n",
       "      <td>3.555556</td>\n",
       "    </tr>\n",
       "    <tr>\n",
       "      <th>Intelligent Workflows</th>\n",
       "      <td>14</td>\n",
       "      <td>4.642857</td>\n",
       "    </tr>\n",
       "    <tr>\n",
       "      <th>SaaS Purchasing</th>\n",
       "      <td>13</td>\n",
       "      <td>5.307692</td>\n",
       "    </tr>\n",
       "    <tr>\n",
       "      <th rowspan=\"3\" valign=\"top\">Mid-Market</th>\n",
       "      <th>Cloud Cost Optimization</th>\n",
       "      <td>12</td>\n",
       "      <td>3.750000</td>\n",
       "    </tr>\n",
       "    <tr>\n",
       "      <th>Intelligent Workflows</th>\n",
       "      <td>11</td>\n",
       "      <td>5.545455</td>\n",
       "    </tr>\n",
       "    <tr>\n",
       "      <th>SaaS Purchasing</th>\n",
       "      <td>11</td>\n",
       "      <td>4.454545</td>\n",
       "    </tr>\n",
       "    <tr>\n",
       "      <th rowspan=\"3\" valign=\"top\">SMB</th>\n",
       "      <th>Cloud Cost Optimization</th>\n",
       "      <td>16</td>\n",
       "      <td>5.250000</td>\n",
       "    </tr>\n",
       "    <tr>\n",
       "      <th>Intelligent Workflows</th>\n",
       "      <td>10</td>\n",
       "      <td>4.300000</td>\n",
       "    </tr>\n",
       "    <tr>\n",
       "      <th>SaaS Purchasing</th>\n",
       "      <td>9</td>\n",
       "      <td>6.333333</td>\n",
       "    </tr>\n",
       "  </tbody>\n",
       "</table>\n",
       "</div>"
      ],
      "text/plain": [
       "                                                               Count_of_Churned_Customers  \\\n",
       "Region               Customer_Segment Product                                               \n",
       "Asia-Pacific         Enterprise       Cloud Cost Optimization                          12   \n",
       "                                      Intelligent Workflows                             9   \n",
       "                                      SaaS Purchasing                                   9   \n",
       "                     Mid-Market       Cloud Cost Optimization                          11   \n",
       "                                      Intelligent Workflows                             8   \n",
       "                                      SaaS Purchasing                                  10   \n",
       "                     SMB              Cloud Cost Optimization                          13   \n",
       "                                      Intelligent Workflows                            10   \n",
       "                                      SaaS Purchasing                                  13   \n",
       "Europe               Enterprise       Cloud Cost Optimization                           9   \n",
       "                                      Intelligent Workflows                             9   \n",
       "                                      SaaS Purchasing                                  12   \n",
       "                     Mid-Market       Cloud Cost Optimization                          12   \n",
       "                                      Intelligent Workflows                            15   \n",
       "                                      SaaS Purchasing                                   8   \n",
       "                     SMB              Cloud Cost Optimization                          12   \n",
       "                                      Intelligent Workflows                             9   \n",
       "                                      SaaS Purchasing                                  12   \n",
       "Latin America        Enterprise       Cloud Cost Optimization                          10   \n",
       "                                      Intelligent Workflows                             5   \n",
       "                                      SaaS Purchasing                                  10   \n",
       "                     Mid-Market       Cloud Cost Optimization                          13   \n",
       "                                      Intelligent Workflows                            15   \n",
       "                                      SaaS Purchasing                                  15   \n",
       "                     SMB              Cloud Cost Optimization                           8   \n",
       "                                      Intelligent Workflows                            11   \n",
       "                                      SaaS Purchasing                                   6   \n",
       "Middle East & Africa Enterprise       Cloud Cost Optimization                          11   \n",
       "                                      Intelligent Workflows                            15   \n",
       "                                      SaaS Purchasing                                  12   \n",
       "                     Mid-Market       Cloud Cost Optimization                           8   \n",
       "                                      Intelligent Workflows                            13   \n",
       "                                      SaaS Purchasing                                  13   \n",
       "                     SMB              Cloud Cost Optimization                          11   \n",
       "                                      Intelligent Workflows                            11   \n",
       "                                      SaaS Purchasing                                  15   \n",
       "North America        Enterprise       Cloud Cost Optimization                           9   \n",
       "                                      Intelligent Workflows                            14   \n",
       "                                      SaaS Purchasing                                  13   \n",
       "                     Mid-Market       Cloud Cost Optimization                          12   \n",
       "                                      Intelligent Workflows                            11   \n",
       "                                      SaaS Purchasing                                  11   \n",
       "                     SMB              Cloud Cost Optimization                          16   \n",
       "                                      Intelligent Workflows                            10   \n",
       "                                      SaaS Purchasing                                   9   \n",
       "\n",
       "                                                               Avg_CSAT_Score  \n",
       "Region               Customer_Segment Product                                  \n",
       "Asia-Pacific         Enterprise       Cloud Cost Optimization        5.000000  \n",
       "                                      Intelligent Workflows          6.000000  \n",
       "                                      SaaS Purchasing                5.222222  \n",
       "                     Mid-Market       Cloud Cost Optimization        5.636364  \n",
       "                                      Intelligent Workflows          5.125000  \n",
       "                                      SaaS Purchasing                4.900000  \n",
       "                     SMB              Cloud Cost Optimization        4.923077  \n",
       "                                      Intelligent Workflows          5.700000  \n",
       "                                      SaaS Purchasing                4.538462  \n",
       "Europe               Enterprise       Cloud Cost Optimization        4.777778  \n",
       "                                      Intelligent Workflows          3.333333  \n",
       "                                      SaaS Purchasing                4.666667  \n",
       "                     Mid-Market       Cloud Cost Optimization        5.583333  \n",
       "                                      Intelligent Workflows          4.866667  \n",
       "                                      SaaS Purchasing                6.125000  \n",
       "                     SMB              Cloud Cost Optimization        5.000000  \n",
       "                                      Intelligent Workflows          4.000000  \n",
       "                                      SaaS Purchasing                5.833333  \n",
       "Latin America        Enterprise       Cloud Cost Optimization        3.200000  \n",
       "                                      Intelligent Workflows          2.800000  \n",
       "                                      SaaS Purchasing                3.800000  \n",
       "                     Mid-Market       Cloud Cost Optimization        5.615385  \n",
       "                                      Intelligent Workflows          4.333333  \n",
       "                                      SaaS Purchasing                4.600000  \n",
       "                     SMB              Cloud Cost Optimization        6.875000  \n",
       "                                      Intelligent Workflows          5.000000  \n",
       "                                      SaaS Purchasing                3.166667  \n",
       "Middle East & Africa Enterprise       Cloud Cost Optimization        4.545455  \n",
       "                                      Intelligent Workflows          5.600000  \n",
       "                                      SaaS Purchasing                5.833333  \n",
       "                     Mid-Market       Cloud Cost Optimization        5.375000  \n",
       "                                      Intelligent Workflows          4.538462  \n",
       "                                      SaaS Purchasing                6.000000  \n",
       "                     SMB              Cloud Cost Optimization        6.272727  \n",
       "                                      Intelligent Workflows          4.545455  \n",
       "                                      SaaS Purchasing                6.066667  \n",
       "North America        Enterprise       Cloud Cost Optimization        3.555556  \n",
       "                                      Intelligent Workflows          4.642857  \n",
       "                                      SaaS Purchasing                5.307692  \n",
       "                     Mid-Market       Cloud Cost Optimization        3.750000  \n",
       "                                      Intelligent Workflows          5.545455  \n",
       "                                      SaaS Purchasing                4.454545  \n",
       "                     SMB              Cloud Cost Optimization        5.250000  \n",
       "                                      Intelligent Workflows          4.300000  \n",
       "                                      SaaS Purchasing                6.333333  "
      ]
     },
     "metadata": {},
     "output_type": "display_data"
    }
   ],
   "source": [
    "# let's have a look at a churn analysis\n",
    "churn_summary = vertice_df.groupby([\"Region\", \"Customer_Segment\", \"Product\"]).agg({\n",
    "    \"Churn_Flag\":\"count\",\n",
    "    \"CSAT_Score\":\"mean\",\n",
    "}).rename(columns={\n",
    "    \"Churn_Flag\":\"Count_of_Churned_Customers\",\n",
    "    \"CSAT_Score\":\"Avg_CSAT_Score\"\n",
    "})\n",
    " \n",
    "display(churn_summary)"
   ]
  },
  {
   "cell_type": "code",
   "execution_count": 231,
   "id": "86b3f002-448e-40ff-8fdc-6d40f5d7d782",
   "metadata": {},
   "outputs": [
    {
     "name": "stdout",
     "output_type": "stream",
     "text": [
      "Renewal_Status\n",
      "Churned    174\n",
      "Pending    170\n",
      "Renewed    156\n",
      "Name: count, dtype: int64\n",
      "Churn_Flag\n",
      "0    326\n",
      "1    174\n",
      "Name: count, dtype: int64\n"
     ]
    }
   ],
   "source": [
    "# churn numbers seem very high - checking to see if they correctly correspond\n",
    "print(vertice_df[\"Renewal_Status\"].value_counts())\n",
    "print(vertice_df[\"Churn_Flag\"].value_counts())"
   ]
  },
  {
   "cell_type": "code",
   "execution_count": 233,
   "id": "f731dd3c-7a36-4a59-acb3-ce3bb21b67c3",
   "metadata": {},
   "outputs": [],
   "source": [
    "# would be a horror story of a churn rate - but the data is correctly represented so we move on"
   ]
  },
  {
   "cell_type": "code",
   "execution_count": 235,
   "id": "e0ba6ad4-300c-4857-8a67-a81ab9f25924",
   "metadata": {},
   "outputs": [
    {
     "data": {
      "image/png": "[encoded data removed]",
      "text/plain": [
       "<Figure size 1200x600 with 1 Axes>"
      ]
     },
     "metadata": {},
     "output_type": "display_data"
    }
   ],
   "source": [
    "churn_summary_reset = churn_summary.reset_index()\n",
    "plt.figure(figsize=(12,6))\n",
    "sns.barplot(\n",
    "    data=churn_summary_reset,\n",
    "    errorbar=None,\n",
    "    x=\"Region\",\n",
    "    y=\"Count_of_Churned_Customers\",\n",
    "    hue=\"Customer_Segment\",\n",
    ")\n",
    "plt.title(\"Churn Count by Region and Segment\")\n",
    "plt.ylabel(\"Count of Customers Churned\")\n",
    "plt.legend(title=\"Customer Segment\", bbox_to_anchor=(1.17,1), loc=\"upper right\")\n",
    "plt.grid(axis=\"y\", linestyle=\"--\", alpha=0.7)\n",
    "plt.show()\n",
    "    "
   ]
  },
  {
   "cell_type": "code",
   "execution_count": 236,
   "id": "aa47abd9-4666-4847-a452-89cf0a9686b5",
   "metadata": {},
   "outputs": [
    {
     "data": {
      "image/png": "[encoded data removed]",
      "text/plain": [
       "<Figure size 1200x600 with 1 Axes>"
      ]
     },
     "metadata": {},
     "output_type": "display_data"
    }
   ],
   "source": [
    "plt.figure(figsize=(12,6))\n",
    "sns.barplot(\n",
    "    data=churn_summary_reset,\n",
    "    errorbar=None,\n",
    "    y=\"Count_of_Churned_Customers\",\n",
    "    x=\"Region\",\n",
    "    hue=\"Product\",\n",
    "    palette=\"rainbow\"\n",
    ")\n",
    "plt.title(\"Churned Customers by Region and Product\")\n",
    "plt.ylabel(\"Count of Customers Churned\")\n",
    "plt.legend(title=\"Product\", bbox_to_anchor=(1.25,1), loc=\"upper right\")\n",
    "plt.grid(axis=\"y\", linestyle=\"--\", alpha=0.7)\n",
    "plt.show()"
   ]
  },
  {
   "cell_type": "code",
   "execution_count": 238,
   "id": "20a32d93-877a-4fe6-bc16-0b109844d55f",
   "metadata": {},
   "outputs": [
    {
     "data": {
      "text/html": [
       "<div>\n",
       "<style scoped>\n",
       "    .dataframe tbody tr th:only-of-type {\n",
       "        vertical-align: middle;\n",
       "    }\n",
       "\n",
       "    .dataframe tbody tr th {\n",
       "        vertical-align: top;\n",
       "    }\n",
       "\n",
       "    .dataframe thead th {\n",
       "        text-align: right;\n",
       "    }\n",
       "</style>\n",
       "<table border=\"1\" class=\"dataframe\">\n",
       "  <thead>\n",
       "    <tr style=\"text-align: right;\">\n",
       "      <th></th>\n",
       "      <th>Customer_ID</th>\n",
       "      <th>Product</th>\n",
       "      <th>Region</th>\n",
       "      <th>Industry</th>\n",
       "      <th>Customer_Segment</th>\n",
       "      <th>Monthly_Spend</th>\n",
       "      <th>Savings_Achieved</th>\n",
       "      <th>Engagement_Score</th>\n",
       "      <th>Onboarding_Date</th>\n",
       "      <th>Onboarding_Status</th>\n",
       "      <th>Contract_Accuracy_Status</th>\n",
       "      <th>Support_Case_Status</th>\n",
       "      <th>Interactions_Logged</th>\n",
       "      <th>Data_Issues_Flagged</th>\n",
       "      <th>Bugs_Escalated</th>\n",
       "      <th>CSAT_Score</th>\n",
       "      <th>Renewal_Status</th>\n",
       "      <th>Churn_Flag</th>\n",
       "    </tr>\n",
       "  </thead>\n",
       "  <tbody>\n",
       "    <tr>\n",
       "      <th>0</th>\n",
       "      <td>CUST00001</td>\n",
       "      <td>Intelligent Workflows</td>\n",
       "      <td>Europe</td>\n",
       "      <td>Manufacturing</td>\n",
       "      <td>SMB</td>\n",
       "      <td>49971.27</td>\n",
       "      <td>11651.51</td>\n",
       "      <td>19</td>\n",
       "      <td>2023-10-11</td>\n",
       "      <td>Completed</td>\n",
       "      <td>Verified</td>\n",
       "      <td>Closed</td>\n",
       "      <td>45</td>\n",
       "      <td>7</td>\n",
       "      <td>2</td>\n",
       "      <td>3</td>\n",
       "      <td>Pending</td>\n",
       "      <td>0</td>\n",
       "    </tr>\n",
       "    <tr>\n",
       "      <th>1</th>\n",
       "      <td>CUST00002</td>\n",
       "      <td>SaaS Purchasing</td>\n",
       "      <td>Europe</td>\n",
       "      <td>Manufacturing</td>\n",
       "      <td>Enterprise</td>\n",
       "      <td>3362.39</td>\n",
       "      <td>11961.50</td>\n",
       "      <td>37</td>\n",
       "      <td>2023-10-24</td>\n",
       "      <td>Pending</td>\n",
       "      <td>Needs Attention</td>\n",
       "      <td>Closed</td>\n",
       "      <td>37</td>\n",
       "      <td>4</td>\n",
       "      <td>0</td>\n",
       "      <td>1</td>\n",
       "      <td>Renewed</td>\n",
       "      <td>0</td>\n",
       "    </tr>\n",
       "    <tr>\n",
       "      <th>2</th>\n",
       "      <td>CUST00003</td>\n",
       "      <td>Intelligent Workflows</td>\n",
       "      <td>Asia-Pacific</td>\n",
       "      <td>Healthcare</td>\n",
       "      <td>Enterprise</td>\n",
       "      <td>48881.54</td>\n",
       "      <td>4097.29</td>\n",
       "      <td>85</td>\n",
       "      <td>2023-10-20</td>\n",
       "      <td>Completed</td>\n",
       "      <td>Verified</td>\n",
       "      <td>Pending</td>\n",
       "      <td>45</td>\n",
       "      <td>9</td>\n",
       "      <td>2</td>\n",
       "      <td>1</td>\n",
       "      <td>Pending</td>\n",
       "      <td>0</td>\n",
       "    </tr>\n",
       "    <tr>\n",
       "      <th>3</th>\n",
       "      <td>CUST00004</td>\n",
       "      <td>Intelligent Workflows</td>\n",
       "      <td>Europe</td>\n",
       "      <td>Healthcare</td>\n",
       "      <td>Mid-Market</td>\n",
       "      <td>20938.49</td>\n",
       "      <td>7563.59</td>\n",
       "      <td>8</td>\n",
       "      <td>2023-11-10</td>\n",
       "      <td>In Progress</td>\n",
       "      <td>Verified</td>\n",
       "      <td>Open</td>\n",
       "      <td>38</td>\n",
       "      <td>4</td>\n",
       "      <td>0</td>\n",
       "      <td>1</td>\n",
       "      <td>Churned</td>\n",
       "      <td>1</td>\n",
       "    </tr>\n",
       "    <tr>\n",
       "      <th>4</th>\n",
       "      <td>CUST00005</td>\n",
       "      <td>SaaS Purchasing</td>\n",
       "      <td>North America</td>\n",
       "      <td>Finance</td>\n",
       "      <td>Enterprise</td>\n",
       "      <td>43666.92</td>\n",
       "      <td>7022.97</td>\n",
       "      <td>28</td>\n",
       "      <td>2023-10-26</td>\n",
       "      <td>Pending</td>\n",
       "      <td>Needs Attention</td>\n",
       "      <td>Pending</td>\n",
       "      <td>29</td>\n",
       "      <td>1</td>\n",
       "      <td>0</td>\n",
       "      <td>8</td>\n",
       "      <td>Pending</td>\n",
       "      <td>0</td>\n",
       "    </tr>\n",
       "  </tbody>\n",
       "</table>\n",
       "</div>"
      ],
      "text/plain": [
       "  Customer_ID                Product         Region       Industry  \\\n",
       "0   CUST00001  Intelligent Workflows         Europe  Manufacturing   \n",
       "1   CUST00002        SaaS Purchasing         Europe  Manufacturing   \n",
       "2   CUST00003  Intelligent Workflows   Asia-Pacific     Healthcare   \n",
       "3   CUST00004  Intelligent Workflows         Europe     Healthcare   \n",
       "4   CUST00005        SaaS Purchasing  North America        Finance   \n",
       "\n",
       "  Customer_Segment  Monthly_Spend  Savings_Achieved  Engagement_Score  \\\n",
       "0              SMB       49971.27          11651.51                19   \n",
       "1       Enterprise        3362.39          11961.50                37   \n",
       "2       Enterprise       48881.54           4097.29                85   \n",
       "3       Mid-Market       20938.49           7563.59                 8   \n",
       "4       Enterprise       43666.92           7022.97                28   \n",
       "\n",
       "  Onboarding_Date Onboarding_Status Contract_Accuracy_Status  \\\n",
       "0      2023-10-11         Completed                 Verified   \n",
       "1      2023-10-24           Pending          Needs Attention   \n",
       "2      2023-10-20         Completed                 Verified   \n",
       "3      2023-11-10       In Progress                 Verified   \n",
       "4      2023-10-26           Pending          Needs Attention   \n",
       "\n",
       "  Support_Case_Status  Interactions_Logged  Data_Issues_Flagged  \\\n",
       "0              Closed                   45                    7   \n",
       "1              Closed                   37                    4   \n",
       "2             Pending                   45                    9   \n",
       "3                Open                   38                    4   \n",
       "4             Pending                   29                    1   \n",
       "\n",
       "   Bugs_Escalated  CSAT_Score Renewal_Status  Churn_Flag  \n",
       "0               2           3        Pending           0  \n",
       "1               0           1        Renewed           0  \n",
       "2               2           1        Pending           0  \n",
       "3               0           1        Churned           1  \n",
       "4               0           8        Pending           0  "
      ]
     },
     "execution_count": 238,
     "metadata": {},
     "output_type": "execute_result"
    }
   ],
   "source": [
    "vertice_df.head()"
   ]
  },
  {
   "cell_type": "code",
   "execution_count": 240,
   "id": "1c3009bc-815e-43ca-9179-5b10d4c32401",
   "metadata": {},
   "outputs": [
    {
     "data": {
      "text/html": [
       "<div>\n",
       "<style scoped>\n",
       "    .dataframe tbody tr th:only-of-type {\n",
       "        vertical-align: middle;\n",
       "    }\n",
       "\n",
       "    .dataframe tbody tr th {\n",
       "        vertical-align: top;\n",
       "    }\n",
       "\n",
       "    .dataframe thead th {\n",
       "        text-align: right;\n",
       "    }\n",
       "</style>\n",
       "<table border=\"1\" class=\"dataframe\">\n",
       "  <thead>\n",
       "    <tr style=\"text-align: right;\">\n",
       "      <th>Product</th>\n",
       "      <th>Cloud Cost Optimization</th>\n",
       "      <th>Intelligent Workflows</th>\n",
       "      <th>SaaS Purchasing</th>\n",
       "    </tr>\n",
       "    <tr>\n",
       "      <th>Region</th>\n",
       "      <th></th>\n",
       "      <th></th>\n",
       "      <th></th>\n",
       "    </tr>\n",
       "  </thead>\n",
       "  <tbody>\n",
       "    <tr>\n",
       "      <th>Asia-Pacific</th>\n",
       "      <td>1063599.20</td>\n",
       "      <td>720997.31</td>\n",
       "      <td>701404.08</td>\n",
       "    </tr>\n",
       "    <tr>\n",
       "      <th>Europe</th>\n",
       "      <td>815747.43</td>\n",
       "      <td>817986.22</td>\n",
       "      <td>872379.78</td>\n",
       "    </tr>\n",
       "    <tr>\n",
       "      <th>Latin America</th>\n",
       "      <td>815243.46</td>\n",
       "      <td>835747.64</td>\n",
       "      <td>843532.91</td>\n",
       "    </tr>\n",
       "    <tr>\n",
       "      <th>Middle East &amp; Africa</th>\n",
       "      <td>798129.49</td>\n",
       "      <td>1009043.42</td>\n",
       "      <td>984827.49</td>\n",
       "    </tr>\n",
       "    <tr>\n",
       "      <th>North America</th>\n",
       "      <td>1014765.42</td>\n",
       "      <td>701368.29</td>\n",
       "      <td>803817.05</td>\n",
       "    </tr>\n",
       "  </tbody>\n",
       "</table>\n",
       "</div>"
      ],
      "text/plain": [
       "Product               Cloud Cost Optimization  Intelligent Workflows  \\\n",
       "Region                                                                 \n",
       "Asia-Pacific                       1063599.20              720997.31   \n",
       "Europe                              815747.43              817986.22   \n",
       "Latin America                       815243.46              835747.64   \n",
       "Middle East & Africa                798129.49             1009043.42   \n",
       "North America                      1014765.42              701368.29   \n",
       "\n",
       "Product               SaaS Purchasing  \n",
       "Region                                 \n",
       "Asia-Pacific                701404.08  \n",
       "Europe                      872379.78  \n",
       "Latin America               843532.91  \n",
       "Middle East & Africa        984827.49  \n",
       "North America               803817.05  "
      ]
     },
     "metadata": {},
     "output_type": "display_data"
    }
   ],
   "source": [
    "monthly_spend_summary = vertice_df.pivot_table(\n",
    "    values=\"Monthly_Spend\",\n",
    "    index=\"Region\",\n",
    "    columns=\"Product\",\n",
    "    aggfunc=\"sum\"\n",
    ").rename(columns={\n",
    "    \"Monthly_Spend\":\"Total_Monthly_Spend\"\n",
    "})\n",
    "display(monthly_spend_summary)"
   ]
  },
  {
   "cell_type": "code",
   "execution_count": 242,
   "id": "8e723192-3c9d-4a85-9317-b3559f2f469a",
   "metadata": {},
   "outputs": [
    {
     "data": {
      "image/png": "[encoded data removed]",
      "text/plain": [
       "<Figure size 1200x600 with 1 Axes>"
      ]
     },
     "metadata": {},
     "output_type": "display_data"
    }
   ],
   "source": [
    "monthly_spend_melted = monthly_spend_summary.reset_index().melt(\n",
    "    id_vars=\"Region\",\n",
    "    var_name=\"Product\",\n",
    "    value_name=\"Total_Monthly_Spend\"\n",
    ")\n",
    "plt.figure(figsize=(12,6))\n",
    "sns.barplot(\n",
    "    data=monthly_spend_melted,\n",
    "    x=\"Region\",\n",
    "    y=\"Total_Monthly_Spend\",\n",
    "    hue=\"Product\",\n",
    "    palette=\"viridis\",\n",
    ")\n",
    "plt.title(\"Total Monthly Spend by Region and Product\")\n",
    "plt.ylabel(\"Total Monthly Spend in Millions\")\n",
    "plt.xlabel(\"Region\")\n",
    "plt.xticks(rotation=0)\n",
    "plt.legend(title=\"Product\", bbox_to_anchor=(1.25,1), loc=\"upper right\")\n",
    "plt.show()"
   ]
  },
  {
   "cell_type": "code",
   "execution_count": 243,
   "id": "4fa382e8-d703-4351-aae1-ec5ebac6aa38",
   "metadata": {},
   "outputs": [
    {
     "data": {
      "text/plain": [
       "Region         Year_Month\n",
       "Asia-Pacific   2023-01        8\n",
       "               2023-02        9\n",
       "               2023-03        7\n",
       "               2023-04        6\n",
       "               2023-05       12\n",
       "                             ..\n",
       "North America  2023-08        8\n",
       "               2023-09       13\n",
       "               2023-10        7\n",
       "               2023-11       10\n",
       "               2023-12        9\n",
       "Name: Customer_ID, Length: 62, dtype: int64"
      ]
     },
     "metadata": {},
     "output_type": "display_data"
    }
   ],
   "source": [
    "# next up, a bit of time series analysis\n",
    "\n",
    "vertice_df[\"Onboarding_Date\"] = pd.to_datetime(vertice_df[\"Onboarding_Date\"])\n",
    "vertice_df[\"Year_Month\"] = vertice_df[\"Onboarding_Date\"].dt.to_period(\"M\")\n",
    "monthly_onboarding = vertice_df.groupby([\"Region\", \"Year_Month\"])[\"Customer_ID\"].count()\n",
    "display(monthly_onboarding)"
   ]
  },
  {
   "cell_type": "code",
   "execution_count": 247,
   "id": "f6fd55cd-e887-4d0f-ac79-5cf4d26f55ca",
   "metadata": {},
   "outputs": [
    {
     "data": {
      "text/plain": [
       "Year_Month\n",
       "2023-01     8\n",
       "2023-02     9\n",
       "2023-03     7\n",
       "2023-04     6\n",
       "2023-05    12\n",
       "2023-06     7\n",
       "2023-07     7\n",
       "2023-08     9\n",
       "2023-09     9\n",
       "2023-10    12\n",
       "2023-11     4\n",
       "2023-12     3\n",
       "2024-01     2\n",
       "Freq: M, Name: Customer_ID, dtype: int64"
      ]
     },
     "metadata": {},
     "output_type": "display_data"
    }
   ],
   "source": [
    "APAC_monthly_onboarding = monthly_onboarding.loc[\"Asia-Pacific\"]\n",
    "display(APAC_monthly_onboarding)"
   ]
  },
  {
   "cell_type": "code",
   "execution_count": 249,
   "id": "a39248ee-d4bc-4f04-840d-e0ad5e57869a",
   "metadata": {},
   "outputs": [
    {
     "data": {
      "image/png": "[encoded data removed]",
      "text/plain": [
       "<Figure size 1200x600 with 1 Axes>"
      ]
     },
     "metadata": {},
     "output_type": "display_data"
    }
   ],
   "source": [
    "APAC_monthly_onboarding.plot(kind=\"line\", linestyle=\"--\", marker=\"o\", figsize=(12,6))\n",
    "plt.title(\"Clients Onboarded Monthly in APAC\")\n",
    "plt.ylabel(\"Number of Clients Onboarded\")\n",
    "plt.xlabel(\"Month\")\n",
    "plt.grid(axis=\"y\", linestyle=\"--\", alpha=0.7)\n",
    "plt.show()"
   ]
  },
  {
   "cell_type": "code",
   "execution_count": 253,
   "id": "b71e2516-4c4c-4ebc-b67a-9b11c1a1fa99",
   "metadata": {},
   "outputs": [
    {
     "data": {
      "text/html": [
       "<div>\n",
       "<style scoped>\n",
       "    .dataframe tbody tr th:only-of-type {\n",
       "        vertical-align: middle;\n",
       "    }\n",
       "\n",
       "    .dataframe tbody tr th {\n",
       "        vertical-align: top;\n",
       "    }\n",
       "\n",
       "    .dataframe thead th {\n",
       "        text-align: right;\n",
       "    }\n",
       "</style>\n",
       "<table border=\"1\" class=\"dataframe\">\n",
       "  <thead>\n",
       "    <tr style=\"text-align: right;\">\n",
       "      <th></th>\n",
       "      <th>Customer_ID</th>\n",
       "      <th>Product</th>\n",
       "      <th>Region</th>\n",
       "      <th>Industry</th>\n",
       "      <th>Customer_Segment</th>\n",
       "      <th>Monthly_Spend</th>\n",
       "      <th>Savings_Achieved</th>\n",
       "      <th>Engagement_Score</th>\n",
       "      <th>Onboarding_Date</th>\n",
       "      <th>Onboarding_Status</th>\n",
       "      <th>Contract_Accuracy_Status</th>\n",
       "      <th>Support_Case_Status</th>\n",
       "      <th>Interactions_Logged</th>\n",
       "      <th>Data_Issues_Flagged</th>\n",
       "      <th>Bugs_Escalated</th>\n",
       "      <th>CSAT_Score</th>\n",
       "      <th>Renewal_Status</th>\n",
       "      <th>Churn_Flag</th>\n",
       "      <th>Year_Month</th>\n",
       "    </tr>\n",
       "  </thead>\n",
       "  <tbody>\n",
       "    <tr>\n",
       "      <th>0</th>\n",
       "      <td>CUST00001</td>\n",
       "      <td>Intelligent Workflows</td>\n",
       "      <td>Europe</td>\n",
       "      <td>Manufacturing</td>\n",
       "      <td>SMB</td>\n",
       "      <td>49971.27</td>\n",
       "      <td>11651.51</td>\n",
       "      <td>19</td>\n",
       "      <td>2023-10-11</td>\n",
       "      <td>Completed</td>\n",
       "      <td>Verified</td>\n",
       "      <td>Closed</td>\n",
       "      <td>45</td>\n",
       "      <td>7</td>\n",
       "      <td>2</td>\n",
       "      <td>3</td>\n",
       "      <td>Pending</td>\n",
       "      <td>0</td>\n",
       "      <td>2023-10</td>\n",
       "    </tr>\n",
       "    <tr>\n",
       "      <th>1</th>\n",
       "      <td>CUST00002</td>\n",
       "      <td>SaaS Purchasing</td>\n",
       "      <td>Europe</td>\n",
       "      <td>Manufacturing</td>\n",
       "      <td>Enterprise</td>\n",
       "      <td>3362.39</td>\n",
       "      <td>11961.50</td>\n",
       "      <td>37</td>\n",
       "      <td>2023-10-24</td>\n",
       "      <td>Pending</td>\n",
       "      <td>Needs Attention</td>\n",
       "      <td>Closed</td>\n",
       "      <td>37</td>\n",
       "      <td>4</td>\n",
       "      <td>0</td>\n",
       "      <td>1</td>\n",
       "      <td>Renewed</td>\n",
       "      <td>0</td>\n",
       "      <td>2023-10</td>\n",
       "    </tr>\n",
       "    <tr>\n",
       "      <th>2</th>\n",
       "      <td>CUST00003</td>\n",
       "      <td>Intelligent Workflows</td>\n",
       "      <td>Asia-Pacific</td>\n",
       "      <td>Healthcare</td>\n",
       "      <td>Enterprise</td>\n",
       "      <td>48881.54</td>\n",
       "      <td>4097.29</td>\n",
       "      <td>85</td>\n",
       "      <td>2023-10-20</td>\n",
       "      <td>Completed</td>\n",
       "      <td>Verified</td>\n",
       "      <td>Pending</td>\n",
       "      <td>45</td>\n",
       "      <td>9</td>\n",
       "      <td>2</td>\n",
       "      <td>1</td>\n",
       "      <td>Pending</td>\n",
       "      <td>0</td>\n",
       "      <td>2023-10</td>\n",
       "    </tr>\n",
       "    <tr>\n",
       "      <th>3</th>\n",
       "      <td>CUST00004</td>\n",
       "      <td>Intelligent Workflows</td>\n",
       "      <td>Europe</td>\n",
       "      <td>Healthcare</td>\n",
       "      <td>Mid-Market</td>\n",
       "      <td>20938.49</td>\n",
       "      <td>7563.59</td>\n",
       "      <td>8</td>\n",
       "      <td>2023-11-10</td>\n",
       "      <td>In Progress</td>\n",
       "      <td>Verified</td>\n",
       "      <td>Open</td>\n",
       "      <td>38</td>\n",
       "      <td>4</td>\n",
       "      <td>0</td>\n",
       "      <td>1</td>\n",
       "      <td>Churned</td>\n",
       "      <td>1</td>\n",
       "      <td>2023-11</td>\n",
       "    </tr>\n",
       "    <tr>\n",
       "      <th>4</th>\n",
       "      <td>CUST00005</td>\n",
       "      <td>SaaS Purchasing</td>\n",
       "      <td>North America</td>\n",
       "      <td>Finance</td>\n",
       "      <td>Enterprise</td>\n",
       "      <td>43666.92</td>\n",
       "      <td>7022.97</td>\n",
       "      <td>28</td>\n",
       "      <td>2023-10-26</td>\n",
       "      <td>Pending</td>\n",
       "      <td>Needs Attention</td>\n",
       "      <td>Pending</td>\n",
       "      <td>29</td>\n",
       "      <td>1</td>\n",
       "      <td>0</td>\n",
       "      <td>8</td>\n",
       "      <td>Pending</td>\n",
       "      <td>0</td>\n",
       "      <td>2023-10</td>\n",
       "    </tr>\n",
       "  </tbody>\n",
       "</table>\n",
       "</div>"
      ],
      "text/plain": [
       "  Customer_ID                Product         Region       Industry  \\\n",
       "0   CUST00001  Intelligent Workflows         Europe  Manufacturing   \n",
       "1   CUST00002        SaaS Purchasing         Europe  Manufacturing   \n",
       "2   CUST00003  Intelligent Workflows   Asia-Pacific     Healthcare   \n",
       "3   CUST00004  Intelligent Workflows         Europe     Healthcare   \n",
       "4   CUST00005        SaaS Purchasing  North America        Finance   \n",
       "\n",
       "  Customer_Segment  Monthly_Spend  Savings_Achieved  Engagement_Score  \\\n",
       "0              SMB       49971.27          11651.51                19   \n",
       "1       Enterprise        3362.39          11961.50                37   \n",
       "2       Enterprise       48881.54           4097.29                85   \n",
       "3       Mid-Market       20938.49           7563.59                 8   \n",
       "4       Enterprise       43666.92           7022.97                28   \n",
       "\n",
       "  Onboarding_Date Onboarding_Status Contract_Accuracy_Status  \\\n",
       "0      2023-10-11         Completed                 Verified   \n",
       "1      2023-10-24           Pending          Needs Attention   \n",
       "2      2023-10-20         Completed                 Verified   \n",
       "3      2023-11-10       In Progress                 Verified   \n",
       "4      2023-10-26           Pending          Needs Attention   \n",
       "\n",
       "  Support_Case_Status  Interactions_Logged  Data_Issues_Flagged  \\\n",
       "0              Closed                   45                    7   \n",
       "1              Closed                   37                    4   \n",
       "2             Pending                   45                    9   \n",
       "3                Open                   38                    4   \n",
       "4             Pending                   29                    1   \n",
       "\n",
       "   Bugs_Escalated  CSAT_Score Renewal_Status  Churn_Flag Year_Month  \n",
       "0               2           3        Pending           0    2023-10  \n",
       "1               0           1        Renewed           0    2023-10  \n",
       "2               2           1        Pending           0    2023-10  \n",
       "3               0           1        Churned           1    2023-11  \n",
       "4               0           8        Pending           0    2023-10  "
      ]
     },
     "execution_count": 253,
     "metadata": {},
     "output_type": "execute_result"
    }
   ],
   "source": [
    "vertice_df.head()"
   ]
  },
  {
   "cell_type": "code",
   "execution_count": 259,
   "id": "69d5b56c-005e-4bcb-ba90-67d90729543e",
   "metadata": {},
   "outputs": [
    {
     "data": {
      "text/html": [
       "<div>\n",
       "<style scoped>\n",
       "    .dataframe tbody tr th:only-of-type {\n",
       "        vertical-align: middle;\n",
       "    }\n",
       "\n",
       "    .dataframe tbody tr th {\n",
       "        vertical-align: top;\n",
       "    }\n",
       "\n",
       "    .dataframe thead th {\n",
       "        text-align: right;\n",
       "    }\n",
       "</style>\n",
       "<table border=\"1\" class=\"dataframe\">\n",
       "  <thead>\n",
       "    <tr style=\"text-align: right;\">\n",
       "      <th></th>\n",
       "      <th></th>\n",
       "      <th></th>\n",
       "      <th>Total_Monthly_Revenue</th>\n",
       "      <th>MoM_Revenue_Growth</th>\n",
       "    </tr>\n",
       "    <tr>\n",
       "      <th>Region</th>\n",
       "      <th>Product</th>\n",
       "      <th>Year_Month</th>\n",
       "      <th></th>\n",
       "      <th></th>\n",
       "    </tr>\n",
       "  </thead>\n",
       "  <tbody>\n",
       "    <tr>\n",
       "      <th rowspan=\"5\" valign=\"top\">Asia-Pacific</th>\n",
       "      <th rowspan=\"5\" valign=\"top\">Cloud Cost Optimization</th>\n",
       "      <th>2023-01</th>\n",
       "      <td>61524.27</td>\n",
       "      <td>NaN</td>\n",
       "    </tr>\n",
       "    <tr>\n",
       "      <th>2023-02</th>\n",
       "      <td>122101.85</td>\n",
       "      <td>98.461274</td>\n",
       "    </tr>\n",
       "    <tr>\n",
       "      <th>2023-03</th>\n",
       "      <td>62607.46</td>\n",
       "      <td>-48.725216</td>\n",
       "    </tr>\n",
       "    <tr>\n",
       "      <th>2023-04</th>\n",
       "      <td>32196.81</td>\n",
       "      <td>-48.573525</td>\n",
       "    </tr>\n",
       "    <tr>\n",
       "      <th>2023-05</th>\n",
       "      <td>97974.63</td>\n",
       "      <td>204.299184</td>\n",
       "    </tr>\n",
       "  </tbody>\n",
       "</table>\n",
       "</div>"
      ],
      "text/plain": [
       "                                                 Total_Monthly_Revenue  \\\n",
       "Region       Product                 Year_Month                          \n",
       "Asia-Pacific Cloud Cost Optimization 2023-01                  61524.27   \n",
       "                                     2023-02                 122101.85   \n",
       "                                     2023-03                  62607.46   \n",
       "                                     2023-04                  32196.81   \n",
       "                                     2023-05                  97974.63   \n",
       "\n",
       "                                                 MoM_Revenue_Growth  \n",
       "Region       Product                 Year_Month                      \n",
       "Asia-Pacific Cloud Cost Optimization 2023-01                    NaN  \n",
       "                                     2023-02              98.461274  \n",
       "                                     2023-03             -48.725216  \n",
       "                                     2023-04             -48.573525  \n",
       "                                     2023-05             204.299184  "
      ]
     },
     "execution_count": 259,
     "metadata": {},
     "output_type": "execute_result"
    }
   ],
   "source": [
    "spend_summary = vertice_df.groupby([\"Region\", \"Product\", \"Year_Month\"]).agg(\n",
    "    Total_Monthly_Revenue=(\"Monthly_Spend\", \"sum\")\n",
    ")\n",
    "spend_summary[\"MoM_Revenue_Growth\"] = spend_summary.groupby([\"Region\", \"Product\"])[\"Total_Monthly_Revenue\"].pct_change()*100\n",
    "spend_summary.head()"
   ]
  },
  {
   "cell_type": "code",
   "execution_count": 282,
   "id": "f36128a6-50ec-4461-8696-4fe5482b565b",
   "metadata": {},
   "outputs": [
    {
     "name": "stdout",
     "output_type": "stream",
     "text": [
      "<class 'pandas.core.frame.DataFrame'>\n",
      "RangeIndex: 171 entries, 0 to 170\n",
      "Data columns (total 5 columns):\n",
      " #   Column                 Non-Null Count  Dtype  \n",
      "---  ------                 --------------  -----  \n",
      " 0   Region                 171 non-null    object \n",
      " 1   Product                171 non-null    object \n",
      " 2   Year_Month             171 non-null    object \n",
      " 3   Total_Monthly_Revenue  171 non-null    float64\n",
      " 4   MoM_Revenue_Growth     156 non-null    float64\n",
      "dtypes: float64(2), object(3)\n",
      "memory usage: 6.8+ KB\n"
     ]
    }
   ],
   "source": [
    "spend_summary_reset = spend_summary.reset_index()\n",
    "spend_summary_reset[\"Year_Month\"] = spend_summary_reset[\"Year_Month\"].astype(str)\n",
    "spend_summary_reset.info()"
   ]
  },
  {
   "cell_type": "code",
   "execution_count": 292,
   "id": "d4c115ab-f5f5-434b-b99a-50cf3a9cd7e5",
   "metadata": {},
   "outputs": [
    {
     "data": {
      "image/png": "[encoded data removed]",
      "text/plain": [
       "<Figure size 1200x600 with 1 Axes>"
      ]
     },
     "metadata": {},
     "output_type": "display_data"
    }
   ],
   "source": [
    "APAC_growth = spend_summary_reset[spend_summary_reset[\"Region\"]==\"Asia-Pacific\"]\n",
    "plt.figure(figsize=(12,6))\n",
    "sns.lineplot(\n",
    "    data=APAC_growth,\n",
    "    x=\"Year_Month\",\n",
    "    y=\"MoM_Revenue_Growth\",\n",
    "    hue=\"Product\",\n",
    "    marker=\"o\"\n",
    ")\n",
    "plt.title(\"APAC Monthly Spend Growth Month over Month\")\n",
    "plt.xlabel(\"Date\")\n",
    "plt.ylabel(\"Growth Percentage MoM\")\n",
    "plt.grid(axis=\"y\", linestyle=\"--\", alpha=0.7)\n",
    "plt.legend(title=\"Product\", bbox_to_anchor=(1.25,1), loc=\"upper right\")\n",
    "plt.show()"
   ]
  },
  {
   "cell_type": "code",
   "execution_count": 298,
   "id": "dff0b60b-37a0-4429-848d-243496f4bf29",
   "metadata": {},
   "outputs": [
    {
     "data": {
      "application/vnd.plotly.v1+json": {
       "config": {
        "plotlyServerURL": "https://plot.ly"
       },
       "data": [
        {
         "hovertemplate": "Product=Cloud Cost Optimization<br>Month-Year=%{x}<br>MoM Growth (%)=%{y}<extra></extra>",
         "legendgroup": "Cloud Cost Optimization",
         "line": {
          "color": "#636efa",
          "dash": "solid",
          "width": 2
         },
         "marker": {
          "symbol": "circle"
         },
         "mode": "lines+markers",
         "name": "Cloud Cost Optimization",
         "orientation": "v",
         "showlegend": true,
         "type": "scatter",
         "x": [
          "2023-02",
          "2023-03",
          "2023-04",
          "2023-05",
          "2023-06",
          "2023-07",
          "2023-08",
          "2023-09",
          "2023-10",
          "2023-11"
         ],
         "xaxis": "x",
         "y": [
          98.46127390052739,
          -48.725215875107544,
          -48.57352462470127,
          204.29918367689223,
          38.21621985201678,
          -33.01410171837578,
          -5.671072419876133,
          7.742671908939469,
          142.95590362750042,
          -73.51294324962703
         ],
         "yaxis": "y"
        },
        {
         "hovertemplate": "Product=Intelligent Workflows<br>Month-Year=%{x}<br>MoM Growth (%)=%{y}<extra></extra>",
         "legendgroup": "Intelligent Workflows",
         "line": {
          "color": "#EF553B",
          "dash": "solid",
          "width": 2
         },
         "marker": {
          "symbol": "circle"
         },
         "mode": "lines+markers",
         "name": "Intelligent Workflows",
         "orientation": "v",
         "showlegend": true,
         "type": "scatter",
         "x": [
          "2023-02",
          "2023-03",
          "2023-04",
          "2023-05",
          "2023-06",
          "2023-07",
          "2023-08",
          "2023-09",
          "2023-10",
          "2023-12",
          "2024-01"
         ],
         "xaxis": "x",
         "y": [
          513.7746590923217,
          -80.75070585440433,
          400.8709471576643,
          11.870035461048767,
          -80.15230983216625,
          317.6820684566044,
          -49.96859557556621,
          -50.73704840194886,
          518.0098763185695,
          -66.94438467510501,
          -30.087212310039835
         ],
         "yaxis": "y"
        },
        {
         "hovertemplate": "Product=SaaS Purchasing<br>Month-Year=%{x}<br>MoM Growth (%)=%{y}<extra></extra>",
         "legendgroup": "SaaS Purchasing",
         "line": {
          "color": "#00cc96",
          "dash": "solid",
          "width": 2
         },
         "marker": {
          "symbol": "circle"
         },
         "mode": "lines+markers",
         "name": "SaaS Purchasing",
         "orientation": "v",
         "showlegend": true,
         "type": "scatter",
         "x": [
          "2023-02",
          "2023-03",
          "2023-04",
          "2023-05",
          "2023-06",
          "2023-07",
          "2023-08",
          "2023-09",
          "2023-10",
          "2023-11",
          "2023-12",
          "2024-01"
         ],
         "xaxis": "x",
         "y": [
          -64.3514997440447,
          111.00973372285141,
          -43.90608568266021,
          74.19344024902654,
          -49.359711765889514,
          24.6240271549947,
          52.00394634513963,
          25.40779393192696,
          -82.66555335240825,
          102.43802607525261,
          -13.221510767539968,
          20.803305103491752
         ],
         "yaxis": "y"
        }
       ],
       "layout": {
        "autosize": true,
        "legend": {
         "title": {
          "text": "Product"
         },
         "tracegroupgap": 0
        },
        "margin": {
         "b": 40,
         "l": 40,
         "r": 40,
         "t": 40
        },
        "template": {
         "data": {
          "bar": [
           {
            "error_x": {
             "color": "#2a3f5f"
            },
            "error_y": {
             "color": "#2a3f5f"
            },
            "marker": {
             "line": {
              "color": "white",
              "width": 0.5
             },
             "pattern": {
              "fillmode": "overlay",
              "size": 10,
              "solidity": 0.2
             }
            },
            "type": "bar"
           }
          ],
          "barpolar": [
           {
            "marker": {
             "line": {
              "color": "white",
              "width": 0.5
             },
             "pattern": {
              "fillmode": "overlay",
              "size": 10,
              "solidity": 0.2
             }
            },
            "type": "barpolar"
           }
          ],
          "carpet": [
           {
            "aaxis": {
             "endlinecolor": "#2a3f5f",
             "gridcolor": "#C8D4E3",
             "linecolor": "#C8D4E3",
             "minorgridcolor": "#C8D4E3",
             "startlinecolor": "#2a3f5f"
            },
            "baxis": {
             "endlinecolor": "#2a3f5f",
             "gridcolor": "#C8D4E3",
             "linecolor": "#C8D4E3",
             "minorgridcolor": "#C8D4E3",
             "startlinecolor": "#2a3f5f"
            },
            "type": "carpet"
           }
          ],
          "choropleth": [
           {
            "colorbar": {
             "outlinewidth": 0,
             "ticks": ""
            },
            "type": "choropleth"
           }
          ],
          "contour": [
           {
            "colorbar": {
             "outlinewidth": 0,
             "ticks": ""
            },
            "colorscale": [
             [
              0,
              "#0d0887"
             ],
             [
              0.1111111111111111,
              "#46039f"
             ],
             [
              0.2222222222222222,
              "#7201a8"
             ],
             [
              0.3333333333333333,
              "#9c179e"
             ],
             [
              0.4444444444444444,
              "#bd3786"
             ],
             [
              0.5555555555555556,
              "#d8576b"
             ],
             [
              0.6666666666666666,
              "#ed7953"
             ],
             [
              0.7777777777777778,
              "#fb9f3a"
             ],
             [
              0.8888888888888888,
              "#fdca26"
             ],
             [
              1,
              "#f0f921"
             ]
            ],
            "type": "contour"
           }
          ],
          "contourcarpet": [
           {
            "colorbar": {
             "outlinewidth": 0,
             "ticks": ""
            },
            "type": "contourcarpet"
           }
          ],
          "heatmap": [
           {
            "colorbar": {
             "outlinewidth": 0,
             "ticks": ""
            },
            "colorscale": [
             [
              0,
              "#0d0887"
             ],
             [
              0.1111111111111111,
              "#46039f"
             ],
             [
              0.2222222222222222,
              "#7201a8"
             ],
             [
              0.3333333333333333,
              "#9c179e"
             ],
             [
              0.4444444444444444,
              "#bd3786"
             ],
             [
              0.5555555555555556,
              "#d8576b"
             ],
             [
              0.6666666666666666,
              "#ed7953"
             ],
             [
              0.7777777777777778,
              "#fb9f3a"
             ],
             [
              0.8888888888888888,
              "#fdca26"
             ],
             [
              1,
              "#f0f921"
             ]
            ],
            "type": "heatmap"
           }
          ],
          "heatmapgl": [
           {
            "colorbar": {
             "outlinewidth": 0,
             "ticks": ""
            },
            "colorscale": [
             [
              0,
              "#0d0887"
             ],
             [
              0.1111111111111111,
              "#46039f"
             ],
             [
              0.2222222222222222,
              "#7201a8"
             ],
             [
              0.3333333333333333,
              "#9c179e"
             ],
             [
              0.4444444444444444,
              "#bd3786"
             ],
             [
              0.5555555555555556,
              "#d8576b"
             ],
             [
              0.6666666666666666,
              "#ed7953"
             ],
             [
              0.7777777777777778,
              "#fb9f3a"
             ],
             [
              0.8888888888888888,
              "#fdca26"
             ],
             [
              1,
              "#f0f921"
             ]
            ],
            "type": "heatmapgl"
           }
          ],
          "histogram": [
           {
            "marker": {
             "pattern": {
              "fillmode": "overlay",
              "size": 10,
              "solidity": 0.2
             }
            },
            "type": "histogram"
           }
          ],
          "histogram2d": [
           {
            "colorbar": {
             "outlinewidth": 0,
             "ticks": ""
            },
            "colorscale": [
             [
              0,
              "#0d0887"
             ],
             [
              0.1111111111111111,
              "#46039f"
             ],
             [
              0.2222222222222222,
              "#7201a8"
             ],
             [
              0.3333333333333333,
              "#9c179e"
             ],
             [
              0.4444444444444444,
              "#bd3786"
             ],
             [
              0.5555555555555556,
              "#d8576b"
             ],
             [
              0.6666666666666666,
              "#ed7953"
             ],
             [
              0.7777777777777778,
              "#fb9f3a"
             ],
             [
              0.8888888888888888,
              "#fdca26"
             ],
             [
              1,
              "#f0f921"
             ]
            ],
            "type": "histogram2d"
           }
          ],
          "histogram2dcontour": [
           {
            "colorbar": {
             "outlinewidth": 0,
             "ticks": ""
            },
            "colorscale": [
             [
              0,
              "#0d0887"
             ],
             [
              0.1111111111111111,
              "#46039f"
             ],
             [
              0.2222222222222222,
              "#7201a8"
             ],
             [
              0.3333333333333333,
              "#9c179e"
             ],
             [
              0.4444444444444444,
              "#bd3786"
             ],
             [
              0.5555555555555556,
              "#d8576b"
             ],
             [
              0.6666666666666666,
              "#ed7953"
             ],
             [
              0.7777777777777778,
              "#fb9f3a"
             ],
             [
              0.8888888888888888,
              "#fdca26"
             ],
             [
              1,
              "#f0f921"
             ]
            ],
            "type": "histogram2dcontour"
           }
          ],
          "mesh3d": [
           {
            "colorbar": {
             "outlinewidth": 0,
             "ticks": ""
            },
            "type": "mesh3d"
           }
          ],
          "parcoords": [
           {
            "line": {
             "colorbar": {
              "outlinewidth": 0,
              "ticks": ""
             }
            },
            "type": "parcoords"
           }
          ],
          "pie": [
           {
            "automargin": true,
            "type": "pie"
           }
          ],
          "scatter": [
           {
            "fillpattern": {
             "fillmode": "overlay",
             "size": 10,
             "solidity": 0.2
            },
            "type": "scatter"
           }
          ],
          "scatter3d": [
           {
            "line": {
             "colorbar": {
              "outlinewidth": 0,
              "ticks": ""
             }
            },
            "marker": {
             "colorbar": {
              "outlinewidth": 0,
              "ticks": ""
             }
            },
            "type": "scatter3d"
           }
          ],
          "scattercarpet": [
           {
            "marker": {
             "colorbar": {
              "outlinewidth": 0,
              "ticks": ""
             }
            },
            "type": "scattercarpet"
           }
          ],
          "scattergeo": [
           {
            "marker": {
             "colorbar": {
              "outlinewidth": 0,
              "ticks": ""
             }
            },
            "type": "scattergeo"
           }
          ],
          "scattergl": [
           {
            "marker": {
             "colorbar": {
              "outlinewidth": 0,
              "ticks": ""
             }
            },
            "type": "scattergl"
           }
          ],
          "scattermapbox": [
           {
            "marker": {
             "colorbar": {
              "outlinewidth": 0,
              "ticks": ""
             }
            },
            "type": "scattermapbox"
           }
          ],
          "scatterpolar": [
           {
            "marker": {
             "colorbar": {
              "outlinewidth": 0,
              "ticks": ""
             }
            },
            "type": "scatterpolar"
           }
          ],
          "scatterpolargl": [
           {
            "marker": {
             "colorbar": {
              "outlinewidth": 0,
              "ticks": ""
             }
            },
            "type": "scatterpolargl"
           }
          ],
          "scatterternary": [
           {
            "marker": {
             "colorbar": {
              "outlinewidth": 0,
              "ticks": ""
             }
            },
            "type": "scatterternary"
           }
          ],
          "surface": [
           {
            "colorbar": {
             "outlinewidth": 0,
             "ticks": ""
            },
            "colorscale": [
             [
              0,
              "#0d0887"
             ],
             [
              0.1111111111111111,
              "#46039f"
             ],
             [
              0.2222222222222222,
              "#7201a8"
             ],
             [
              0.3333333333333333,
              "#9c179e"
             ],
             [
              0.4444444444444444,
              "#bd3786"
             ],
             [
              0.5555555555555556,
              "#d8576b"
             ],
             [
              0.6666666666666666,
              "#ed7953"
             ],
             [
              0.7777777777777778,
              "#fb9f3a"
             ],
             [
              0.8888888888888888,
              "#fdca26"
             ],
             [
              1,
              "#f0f921"
             ]
            ],
            "type": "surface"
           }
          ],
          "table": [
           {
            "cells": {
             "fill": {
              "color": "#EBF0F8"
             },
             "line": {
              "color": "white"
             }
            },
            "header": {
             "fill": {
              "color": "#C8D4E3"
             },
             "line": {
              "color": "white"
             }
            },
            "type": "table"
           }
          ]
         },
         "layout": {
          "annotationdefaults": {
           "arrowcolor": "#2a3f5f",
           "arrowhead": 0,
           "arrowwidth": 1
          },
          "autotypenumbers": "strict",
          "coloraxis": {
           "colorbar": {
            "outlinewidth": 0,
            "ticks": ""
           }
          },
          "colorscale": {
           "diverging": [
            [
             0,
             "#8e0152"
            ],
            [
             0.1,
             "#c51b7d"
            ],
            [
             0.2,
             "#de77ae"
            ],
            [
             0.3,
             "#f1b6da"
            ],
            [
             0.4,
             "#fde0ef"
            ],
            [
             0.5,
             "#f7f7f7"
            ],
            [
             0.6,
             "#e6f5d0"
            ],
            [
             0.7,
             "#b8e186"
            ],
            [
             0.8,
             "#7fbc41"
            ],
            [
             0.9,
             "#4d9221"
            ],
            [
             1,
             "#276419"
            ]
           ],
           "sequential": [
            [
             0,
             "#0d0887"
            ],
            [
             0.1111111111111111,
             "#46039f"
            ],
            [
             0.2222222222222222,
             "#7201a8"
            ],
            [
             0.3333333333333333,
             "#9c179e"
            ],
            [
             0.4444444444444444,
             "#bd3786"
            ],
            [
             0.5555555555555556,
             "#d8576b"
            ],
            [
             0.6666666666666666,
             "#ed7953"
            ],
            [
             0.7777777777777778,
             "#fb9f3a"
            ],
            [
             0.8888888888888888,
             "#fdca26"
            ],
            [
             1,
             "#f0f921"
            ]
           ],
           "sequentialminus": [
            [
             0,
             "#0d0887"
            ],
            [
             0.1111111111111111,
             "#46039f"
            ],
            [
             0.2222222222222222,
             "#7201a8"
            ],
            [
             0.3333333333333333,
             "#9c179e"
            ],
            [
             0.4444444444444444,
             "#bd3786"
            ],
            [
             0.5555555555555556,
             "#d8576b"
            ],
            [
             0.6666666666666666,
             "#ed7953"
            ],
            [
             0.7777777777777778,
             "#fb9f3a"
            ],
            [
             0.8888888888888888,
             "#fdca26"
            ],
            [
             1,
             "#f0f921"
            ]
           ]
          },
          "colorway": [
           "#636efa",
           "#EF553B",
           "#00cc96",
           "#ab63fa",
           "#FFA15A",
           "#19d3f3",
           "#FF6692",
           "#B6E880",
           "#FF97FF",
           "#FECB52"
          ],
          "font": {
           "color": "#2a3f5f"
          },
          "geo": {
           "bgcolor": "white",
           "lakecolor": "white",
           "landcolor": "white",
           "showlakes": true,
           "showland": true,
           "subunitcolor": "#C8D4E3"
          },
          "hoverlabel": {
           "align": "left"
          },
          "hovermode": "closest",
          "mapbox": {
           "style": "light"
          },
          "paper_bgcolor": "white",
          "plot_bgcolor": "white",
          "polar": {
           "angularaxis": {
            "gridcolor": "#EBF0F8",
            "linecolor": "#EBF0F8",
            "ticks": ""
           },
           "bgcolor": "white",
           "radialaxis": {
            "gridcolor": "#EBF0F8",
            "linecolor": "#EBF0F8",
            "ticks": ""
           }
          },
          "scene": {
           "xaxis": {
            "backgroundcolor": "white",
            "gridcolor": "#DFE8F3",
            "gridwidth": 2,
            "linecolor": "#EBF0F8",
            "showbackground": true,
            "ticks": "",
            "zerolinecolor": "#EBF0F8"
           },
           "yaxis": {
            "backgroundcolor": "white",
            "gridcolor": "#DFE8F3",
            "gridwidth": 2,
            "linecolor": "#EBF0F8",
            "showbackground": true,
            "ticks": "",
            "zerolinecolor": "#EBF0F8"
           },
           "zaxis": {
            "backgroundcolor": "white",
            "gridcolor": "#DFE8F3",
            "gridwidth": 2,
            "linecolor": "#EBF0F8",
            "showbackground": true,
            "ticks": "",
            "zerolinecolor": "#EBF0F8"
           }
          },
          "shapedefaults": {
           "line": {
            "color": "#2a3f5f"
           }
          },
          "ternary": {
           "aaxis": {
            "gridcolor": "#DFE8F3",
            "linecolor": "#A2B1C6",
            "ticks": ""
           },
           "baxis": {
            "gridcolor": "#DFE8F3",
            "linecolor": "#A2B1C6",
            "ticks": ""
           },
           "bgcolor": "white",
           "caxis": {
            "gridcolor": "#DFE8F3",
            "linecolor": "#A2B1C6",
            "ticks": ""
           }
          },
          "title": {
           "x": 0.05
          },
          "xaxis": {
           "automargin": true,
           "gridcolor": "#EBF0F8",
           "linecolor": "#EBF0F8",
           "ticks": "",
           "title": {
            "standoff": 15
           },
           "zerolinecolor": "#EBF0F8",
           "zerolinewidth": 2
          },
          "yaxis": {
           "automargin": true,
           "gridcolor": "#EBF0F8",
           "linecolor": "#EBF0F8",
           "ticks": "",
           "title": {
            "standoff": 15
           },
           "zerolinecolor": "#EBF0F8",
           "zerolinewidth": 2
          }
         }
        },
        "title": {
         "text": "APAC Monthly Spend Growth (MoM)"
        },
        "xaxis": {
         "anchor": "y",
         "autorange": true,
         "domain": [
          0,
          1
         ],
         "range": [
          "2023-01-11 13:06:46.5466",
          "2024-01-21 10:53:13.4534"
         ],
         "tickangle": 45,
         "title": {
          "text": "Month-Year"
         },
         "type": "date"
        },
        "yaxis": {
         "anchor": "x",
         "autorange": true,
         "domain": [
          0,
          1
         ],
         "range": [
          -128.69606806922826,
          564.0403910353895
         ],
         "title": {
          "text": "Growth Percentage MoM"
         },
         "type": "linear"
        }
       }
      },
      "image/png": "[encoded data removed]",
      "text/html": [
       "<div>                            <div id=\"7f48359d-dc7b-4018-9d2b-8a5a18edafa9\" class=\"plotly-graph-div\" style=\"height:525px; width:100%;\"></div>            <script type=\"text/javascript\">                require([\"plotly\"], function(Plotly) {                    window.PLOTLYENV=window.PLOTLYENV || {};                                    if (document.getElementById(\"7f48359d-dc7b-4018-9d2b-8a5a18edafa9\")) {                    Plotly.newPlot(                        \"7f48359d-dc7b-4018-9d2b-8a5a18edafa9\",                        [{\"hovertemplate\":\"Product=Cloud Cost Optimization\\u003cbr\\u003eMonth-Year=%{x}\\u003cbr\\u003eMoM Growth (%)=%{y}\\u003cextra\\u003e\\u003c\\u002fextra\\u003e\",\"legendgroup\":\"Cloud Cost Optimization\",\"line\":{\"color\":\"#636efa\",\"dash\":\"solid\",\"width\":2},\"marker\":{\"symbol\":\"circle\"},\"mode\":\"lines+markers\",\"name\":\"Cloud Cost Optimization\",\"orientation\":\"v\",\"showlegend\":true,\"x\":[\"2023-02\",\"2023-03\",\"2023-04\",\"2023-05\",\"2023-06\",\"2023-07\",\"2023-08\",\"2023-09\",\"2023-10\",\"2023-11\"],\"xaxis\":\"x\",\"y\":[98.46127390052739,-48.725215875107544,-48.57352462470127,204.29918367689223,38.21621985201678,-33.01410171837578,-5.671072419876133,7.742671908939469,142.95590362750042,-73.51294324962703],\"yaxis\":\"y\",\"type\":\"scatter\"},{\"hovertemplate\":\"Product=Intelligent Workflows\\u003cbr\\u003eMonth-Year=%{x}\\u003cbr\\u003eMoM Growth (%)=%{y}\\u003cextra\\u003e\\u003c\\u002fextra\\u003e\",\"legendgroup\":\"Intelligent Workflows\",\"line\":{\"color\":\"#EF553B\",\"dash\":\"solid\",\"width\":2},\"marker\":{\"symbol\":\"circle\"},\"mode\":\"lines+markers\",\"name\":\"Intelligent Workflows\",\"orientation\":\"v\",\"showlegend\":true,\"x\":[\"2023-02\",\"2023-03\",\"2023-04\",\"2023-05\",\"2023-06\",\"2023-07\",\"2023-08\",\"2023-09\",\"2023-10\",\"2023-12\",\"2024-01\"],\"xaxis\":\"x\",\"y\":[513.7746590923217,-80.75070585440433,400.8709471576643,11.870035461048767,-80.15230983216625,317.6820684566044,-49.96859557556621,-50.73704840194886,518.0098763185695,-66.94438467510501,-30.087212310039835],\"yaxis\":\"y\",\"type\":\"scatter\"},{\"hovertemplate\":\"Product=SaaS Purchasing\\u003cbr\\u003eMonth-Year=%{x}\\u003cbr\\u003eMoM Growth (%)=%{y}\\u003cextra\\u003e\\u003c\\u002fextra\\u003e\",\"legendgroup\":\"SaaS Purchasing\",\"line\":{\"color\":\"#00cc96\",\"dash\":\"solid\",\"width\":2},\"marker\":{\"symbol\":\"circle\"},\"mode\":\"lines+markers\",\"name\":\"SaaS Purchasing\",\"orientation\":\"v\",\"showlegend\":true,\"x\":[\"2023-02\",\"2023-03\",\"2023-04\",\"2023-05\",\"2023-06\",\"2023-07\",\"2023-08\",\"2023-09\",\"2023-10\",\"2023-11\",\"2023-12\",\"2024-01\"],\"xaxis\":\"x\",\"y\":[-64.3514997440447,111.00973372285141,-43.90608568266021,74.19344024902654,-49.359711765889514,24.6240271549947,52.00394634513963,25.40779393192696,-82.66555335240825,102.43802607525261,-13.221510767539968,20.803305103491752],\"yaxis\":\"y\",\"type\":\"scatter\"}],                        {\"template\":{\"data\":{\"barpolar\":[{\"marker\":{\"line\":{\"color\":\"white\",\"width\":0.5},\"pattern\":{\"fillmode\":\"overlay\",\"size\":10,\"solidity\":0.2}},\"type\":\"barpolar\"}],\"bar\":[{\"error_x\":{\"color\":\"#2a3f5f\"},\"error_y\":{\"color\":\"#2a3f5f\"},\"marker\":{\"line\":{\"color\":\"white\",\"width\":0.5},\"pattern\":{\"fillmode\":\"overlay\",\"size\":10,\"solidity\":0.2}},\"type\":\"bar\"}],\"carpet\":[{\"aaxis\":{\"endlinecolor\":\"#2a3f5f\",\"gridcolor\":\"#C8D4E3\",\"linecolor\":\"#C8D4E3\",\"minorgridcolor\":\"#C8D4E3\",\"startlinecolor\":\"#2a3f5f\"},\"baxis\":{\"endlinecolor\":\"#2a3f5f\",\"gridcolor\":\"#C8D4E3\",\"linecolor\":\"#C8D4E3\",\"minorgridcolor\":\"#C8D4E3\",\"startlinecolor\":\"#2a3f5f\"},\"type\":\"carpet\"}],\"choropleth\":[{\"colorbar\":{\"outlinewidth\":0,\"ticks\":\"\"},\"type\":\"choropleth\"}],\"contourcarpet\":[{\"colorbar\":{\"outlinewidth\":0,\"ticks\":\"\"},\"type\":\"contourcarpet\"}],\"contour\":[{\"colorbar\":{\"outlinewidth\":0,\"ticks\":\"\"},\"colorscale\":[[0.0,\"#0d0887\"],[0.1111111111111111,\"#46039f\"],[0.2222222222222222,\"#7201a8\"],[0.3333333333333333,\"#9c179e\"],[0.4444444444444444,\"#bd3786\"],[0.5555555555555556,\"#d8576b\"],[0.6666666666666666,\"#ed7953\"],[0.7777777777777778,\"#fb9f3a\"],[0.8888888888888888,\"#fdca26\"],[1.0,\"#f0f921\"]],\"type\":\"contour\"}],\"heatmapgl\":[{\"colorbar\":{\"outlinewidth\":0,\"ticks\":\"\"},\"colorscale\":[[0.0,\"#0d0887\"],[0.1111111111111111,\"#46039f\"],[0.2222222222222222,\"#7201a8\"],[0.3333333333333333,\"#9c179e\"],[0.4444444444444444,\"#bd3786\"],[0.5555555555555556,\"#d8576b\"],[0.6666666666666666,\"#ed7953\"],[0.7777777777777778,\"#fb9f3a\"],[0.8888888888888888,\"#fdca26\"],[1.0,\"#f0f921\"]],\"type\":\"heatmapgl\"}],\"heatmap\":[{\"colorbar\":{\"outlinewidth\":0,\"ticks\":\"\"},\"colorscale\":[[0.0,\"#0d0887\"],[0.1111111111111111,\"#46039f\"],[0.2222222222222222,\"#7201a8\"],[0.3333333333333333,\"#9c179e\"],[0.4444444444444444,\"#bd3786\"],[0.5555555555555556,\"#d8576b\"],[0.6666666666666666,\"#ed7953\"],[0.7777777777777778,\"#fb9f3a\"],[0.8888888888888888,\"#fdca26\"],[1.0,\"#f0f921\"]],\"type\":\"heatmap\"}],\"histogram2dcontour\":[{\"colorbar\":{\"outlinewidth\":0,\"ticks\":\"\"},\"colorscale\":[[0.0,\"#0d0887\"],[0.1111111111111111,\"#46039f\"],[0.2222222222222222,\"#7201a8\"],[0.3333333333333333,\"#9c179e\"],[0.4444444444444444,\"#bd3786\"],[0.5555555555555556,\"#d8576b\"],[0.6666666666666666,\"#ed7953\"],[0.7777777777777778,\"#fb9f3a\"],[0.8888888888888888,\"#fdca26\"],[1.0,\"#f0f921\"]],\"type\":\"histogram2dcontour\"}],\"histogram2d\":[{\"colorbar\":{\"outlinewidth\":0,\"ticks\":\"\"},\"colorscale\":[[0.0,\"#0d0887\"],[0.1111111111111111,\"#46039f\"],[0.2222222222222222,\"#7201a8\"],[0.3333333333333333,\"#9c179e\"],[0.4444444444444444,\"#bd3786\"],[0.5555555555555556,\"#d8576b\"],[0.6666666666666666,\"#ed7953\"],[0.7777777777777778,\"#fb9f3a\"],[0.8888888888888888,\"#fdca26\"],[1.0,\"#f0f921\"]],\"type\":\"histogram2d\"}],\"histogram\":[{\"marker\":{\"pattern\":{\"fillmode\":\"overlay\",\"size\":10,\"solidity\":0.2}},\"type\":\"histogram\"}],\"mesh3d\":[{\"colorbar\":{\"outlinewidth\":0,\"ticks\":\"\"},\"type\":\"mesh3d\"}],\"parcoords\":[{\"line\":{\"colorbar\":{\"outlinewidth\":0,\"ticks\":\"\"}},\"type\":\"parcoords\"}],\"pie\":[{\"automargin\":true,\"type\":\"pie\"}],\"scatter3d\":[{\"line\":{\"colorbar\":{\"outlinewidth\":0,\"ticks\":\"\"}},\"marker\":{\"colorbar\":{\"outlinewidth\":0,\"ticks\":\"\"}},\"type\":\"scatter3d\"}],\"scattercarpet\":[{\"marker\":{\"colorbar\":{\"outlinewidth\":0,\"ticks\":\"\"}},\"type\":\"scattercarpet\"}],\"scattergeo\":[{\"marker\":{\"colorbar\":{\"outlinewidth\":0,\"ticks\":\"\"}},\"type\":\"scattergeo\"}],\"scattergl\":[{\"marker\":{\"colorbar\":{\"outlinewidth\":0,\"ticks\":\"\"}},\"type\":\"scattergl\"}],\"scattermapbox\":[{\"marker\":{\"colorbar\":{\"outlinewidth\":0,\"ticks\":\"\"}},\"type\":\"scattermapbox\"}],\"scatterpolargl\":[{\"marker\":{\"colorbar\":{\"outlinewidth\":0,\"ticks\":\"\"}},\"type\":\"scatterpolargl\"}],\"scatterpolar\":[{\"marker\":{\"colorbar\":{\"outlinewidth\":0,\"ticks\":\"\"}},\"type\":\"scatterpolar\"}],\"scatter\":[{\"fillpattern\":{\"fillmode\":\"overlay\",\"size\":10,\"solidity\":0.2},\"type\":\"scatter\"}],\"scatterternary\":[{\"marker\":{\"colorbar\":{\"outlinewidth\":0,\"ticks\":\"\"}},\"type\":\"scatterternary\"}],\"surface\":[{\"colorbar\":{\"outlinewidth\":0,\"ticks\":\"\"},\"colorscale\":[[0.0,\"#0d0887\"],[0.1111111111111111,\"#46039f\"],[0.2222222222222222,\"#7201a8\"],[0.3333333333333333,\"#9c179e\"],[0.4444444444444444,\"#bd3786\"],[0.5555555555555556,\"#d8576b\"],[0.6666666666666666,\"#ed7953\"],[0.7777777777777778,\"#fb9f3a\"],[0.8888888888888888,\"#fdca26\"],[1.0,\"#f0f921\"]],\"type\":\"surface\"}],\"table\":[{\"cells\":{\"fill\":{\"color\":\"#EBF0F8\"},\"line\":{\"color\":\"white\"}},\"header\":{\"fill\":{\"color\":\"#C8D4E3\"},\"line\":{\"color\":\"white\"}},\"type\":\"table\"}]},\"layout\":{\"annotationdefaults\":{\"arrowcolor\":\"#2a3f5f\",\"arrowhead\":0,\"arrowwidth\":1},\"autotypenumbers\":\"strict\",\"coloraxis\":{\"colorbar\":{\"outlinewidth\":0,\"ticks\":\"\"}},\"colorscale\":{\"diverging\":[[0,\"#8e0152\"],[0.1,\"#c51b7d\"],[0.2,\"#de77ae\"],[0.3,\"#f1b6da\"],[0.4,\"#fde0ef\"],[0.5,\"#f7f7f7\"],[0.6,\"#e6f5d0\"],[0.7,\"#b8e186\"],[0.8,\"#7fbc41\"],[0.9,\"#4d9221\"],[1,\"#276419\"]],\"sequential\":[[0.0,\"#0d0887\"],[0.1111111111111111,\"#46039f\"],[0.2222222222222222,\"#7201a8\"],[0.3333333333333333,\"#9c179e\"],[0.4444444444444444,\"#bd3786\"],[0.5555555555555556,\"#d8576b\"],[0.6666666666666666,\"#ed7953\"],[0.7777777777777778,\"#fb9f3a\"],[0.8888888888888888,\"#fdca26\"],[1.0,\"#f0f921\"]],\"sequentialminus\":[[0.0,\"#0d0887\"],[0.1111111111111111,\"#46039f\"],[0.2222222222222222,\"#7201a8\"],[0.3333333333333333,\"#9c179e\"],[0.4444444444444444,\"#bd3786\"],[0.5555555555555556,\"#d8576b\"],[0.6666666666666666,\"#ed7953\"],[0.7777777777777778,\"#fb9f3a\"],[0.8888888888888888,\"#fdca26\"],[1.0,\"#f0f921\"]]},\"colorway\":[\"#636efa\",\"#EF553B\",\"#00cc96\",\"#ab63fa\",\"#FFA15A\",\"#19d3f3\",\"#FF6692\",\"#B6E880\",\"#FF97FF\",\"#FECB52\"],\"font\":{\"color\":\"#2a3f5f\"},\"geo\":{\"bgcolor\":\"white\",\"lakecolor\":\"white\",\"landcolor\":\"white\",\"showlakes\":true,\"showland\":true,\"subunitcolor\":\"#C8D4E3\"},\"hoverlabel\":{\"align\":\"left\"},\"hovermode\":\"closest\",\"mapbox\":{\"style\":\"light\"},\"paper_bgcolor\":\"white\",\"plot_bgcolor\":\"white\",\"polar\":{\"angularaxis\":{\"gridcolor\":\"#EBF0F8\",\"linecolor\":\"#EBF0F8\",\"ticks\":\"\"},\"bgcolor\":\"white\",\"radialaxis\":{\"gridcolor\":\"#EBF0F8\",\"linecolor\":\"#EBF0F8\",\"ticks\":\"\"}},\"scene\":{\"xaxis\":{\"backgroundcolor\":\"white\",\"gridcolor\":\"#DFE8F3\",\"gridwidth\":2,\"linecolor\":\"#EBF0F8\",\"showbackground\":true,\"ticks\":\"\",\"zerolinecolor\":\"#EBF0F8\"},\"yaxis\":{\"backgroundcolor\":\"white\",\"gridcolor\":\"#DFE8F3\",\"gridwidth\":2,\"linecolor\":\"#EBF0F8\",\"showbackground\":true,\"ticks\":\"\",\"zerolinecolor\":\"#EBF0F8\"},\"zaxis\":{\"backgroundcolor\":\"white\",\"gridcolor\":\"#DFE8F3\",\"gridwidth\":2,\"linecolor\":\"#EBF0F8\",\"showbackground\":true,\"ticks\":\"\",\"zerolinecolor\":\"#EBF0F8\"}},\"shapedefaults\":{\"line\":{\"color\":\"#2a3f5f\"}},\"ternary\":{\"aaxis\":{\"gridcolor\":\"#DFE8F3\",\"linecolor\":\"#A2B1C6\",\"ticks\":\"\"},\"baxis\":{\"gridcolor\":\"#DFE8F3\",\"linecolor\":\"#A2B1C6\",\"ticks\":\"\"},\"bgcolor\":\"white\",\"caxis\":{\"gridcolor\":\"#DFE8F3\",\"linecolor\":\"#A2B1C6\",\"ticks\":\"\"}},\"title\":{\"x\":0.05},\"xaxis\":{\"automargin\":true,\"gridcolor\":\"#EBF0F8\",\"linecolor\":\"#EBF0F8\",\"ticks\":\"\",\"title\":{\"standoff\":15},\"zerolinecolor\":\"#EBF0F8\",\"zerolinewidth\":2},\"yaxis\":{\"automargin\":true,\"gridcolor\":\"#EBF0F8\",\"linecolor\":\"#EBF0F8\",\"ticks\":\"\",\"title\":{\"standoff\":15},\"zerolinecolor\":\"#EBF0F8\",\"zerolinewidth\":2}}},\"xaxis\":{\"anchor\":\"y\",\"domain\":[0.0,1.0],\"title\":{\"text\":\"Month-Year\"},\"tickangle\":45},\"yaxis\":{\"anchor\":\"x\",\"domain\":[0.0,1.0],\"title\":{\"text\":\"Growth Percentage MoM\"}},\"legend\":{\"title\":{\"text\":\"Product\"},\"tracegroupgap\":0},\"title\":{\"text\":\"APAC Monthly Spend Growth (MoM)\"},\"margin\":{\"l\":40,\"r\":40,\"t\":40,\"b\":40}},                        {\"responsive\": true}                    ).then(function(){\n",
       "                            \n",
       "var gd = document.getElementById('7f48359d-dc7b-4018-9d2b-8a5a18edafa9');\n",
       "var x = new MutationObserver(function (mutations, observer) {{\n",
       "        var display = window.getComputedStyle(gd).display;\n",
       "        if (!display || display === 'none') {{\n",
       "            console.log([gd, 'removed!']);\n",
       "            Plotly.purge(gd);\n",
       "            observer.disconnect();\n",
       "        }}\n",
       "}});\n",
       "\n",
       "// Listen for the removal of the full notebook cells\n",
       "var notebookContainer = gd.closest('#notebook-container');\n",
       "if (notebookContainer) {{\n",
       "    x.observe(notebookContainer, {childList: true});\n",
       "}}\n",
       "\n",
       "// Listen for the clearing of the current output cell\n",
       "var outputEl = gd.closest('.output');\n",
       "if (outputEl) {{\n",
       "    x.observe(outputEl, {childList: true});\n",
       "}}\n",
       "\n",
       "                        })                };                });            </script>        </div>"
      ]
     },
     "metadata": {},
     "output_type": "display_data"
    }
   ],
   "source": [
    "# making the above graph interactive with Plotly. Still need to work on proficiency with this\n",
    "\n",
    "import plotly.express as px\n",
    "\n",
    "fig = px.line(\n",
    "    APAC_growth,\n",
    "    x=\"Year_Month\",\n",
    "    y=\"MoM_Revenue_Growth\",\n",
    "    color=\"Product\",\n",
    "    markers=True,\n",
    "    title=\"APAC Monthly Spend Growth (MoM)\",\n",
    "    labels={\n",
    "        \"Year_Month\": \"Month-Year\",\n",
    "        \"MoM_Revenue_Growth\": \"MoM Growth (%)\",\n",
    "        \"Product\": \"Product\"\n",
    "    },\n",
    "    template=\"plotly_white\"\n",
    ")\n",
    "\n",
    "# Customize layout\n",
    "fig.update_traces(line=dict(width=2))  # Thicker lines for better visibility\n",
    "fig.update_layout(\n",
    "    legend_title=\"Product\",\n",
    "    xaxis=dict(tickangle=45),  # Rotate x-axis labels\n",
    "    yaxis=dict(title=\"Growth Percentage MoM\"),\n",
    "    margin=dict(l=40, r=40, t=40, b=40)\n",
    ")\n",
    "\n",
    "fig.show()\n"
   ]
  },
  {
   "cell_type": "code",
   "execution_count": 301,
   "id": "4413e581-e969-402f-9af7-3e9f494323b4",
   "metadata": {},
   "outputs": [
    {
     "data": {
      "text/html": [
       "<div>\n",
       "<style scoped>\n",
       "    .dataframe tbody tr th:only-of-type {\n",
       "        vertical-align: middle;\n",
       "    }\n",
       "\n",
       "    .dataframe tbody tr th {\n",
       "        vertical-align: top;\n",
       "    }\n",
       "\n",
       "    .dataframe thead th {\n",
       "        text-align: right;\n",
       "    }\n",
       "</style>\n",
       "<table border=\"1\" class=\"dataframe\">\n",
       "  <thead>\n",
       "    <tr style=\"text-align: right;\">\n",
       "      <th></th>\n",
       "      <th>Customer_ID</th>\n",
       "      <th>Product</th>\n",
       "      <th>Region</th>\n",
       "      <th>Industry</th>\n",
       "      <th>Customer_Segment</th>\n",
       "      <th>Monthly_Spend</th>\n",
       "      <th>Savings_Achieved</th>\n",
       "      <th>Engagement_Score</th>\n",
       "      <th>Onboarding_Date</th>\n",
       "      <th>Onboarding_Status</th>\n",
       "      <th>Contract_Accuracy_Status</th>\n",
       "      <th>Support_Case_Status</th>\n",
       "      <th>Interactions_Logged</th>\n",
       "      <th>Data_Issues_Flagged</th>\n",
       "      <th>Bugs_Escalated</th>\n",
       "      <th>CSAT_Score</th>\n",
       "      <th>Renewal_Status</th>\n",
       "      <th>Churn_Flag</th>\n",
       "      <th>Year_Month</th>\n",
       "    </tr>\n",
       "  </thead>\n",
       "  <tbody>\n",
       "    <tr>\n",
       "      <th>0</th>\n",
       "      <td>CUST00001</td>\n",
       "      <td>Intelligent Workflows</td>\n",
       "      <td>Europe</td>\n",
       "      <td>Manufacturing</td>\n",
       "      <td>SMB</td>\n",
       "      <td>49971.27</td>\n",
       "      <td>11651.51</td>\n",
       "      <td>19</td>\n",
       "      <td>2023-10-11</td>\n",
       "      <td>Completed</td>\n",
       "      <td>Verified</td>\n",
       "      <td>Closed</td>\n",
       "      <td>45</td>\n",
       "      <td>7</td>\n",
       "      <td>2</td>\n",
       "      <td>3</td>\n",
       "      <td>Pending</td>\n",
       "      <td>0</td>\n",
       "      <td>2023-10</td>\n",
       "    </tr>\n",
       "    <tr>\n",
       "      <th>1</th>\n",
       "      <td>CUST00002</td>\n",
       "      <td>SaaS Purchasing</td>\n",
       "      <td>Europe</td>\n",
       "      <td>Manufacturing</td>\n",
       "      <td>Enterprise</td>\n",
       "      <td>3362.39</td>\n",
       "      <td>11961.50</td>\n",
       "      <td>37</td>\n",
       "      <td>2023-10-24</td>\n",
       "      <td>Pending</td>\n",
       "      <td>Needs Attention</td>\n",
       "      <td>Closed</td>\n",
       "      <td>37</td>\n",
       "      <td>4</td>\n",
       "      <td>0</td>\n",
       "      <td>1</td>\n",
       "      <td>Renewed</td>\n",
       "      <td>0</td>\n",
       "      <td>2023-10</td>\n",
       "    </tr>\n",
       "    <tr>\n",
       "      <th>2</th>\n",
       "      <td>CUST00003</td>\n",
       "      <td>Intelligent Workflows</td>\n",
       "      <td>Asia-Pacific</td>\n",
       "      <td>Healthcare</td>\n",
       "      <td>Enterprise</td>\n",
       "      <td>48881.54</td>\n",
       "      <td>4097.29</td>\n",
       "      <td>85</td>\n",
       "      <td>2023-10-20</td>\n",
       "      <td>Completed</td>\n",
       "      <td>Verified</td>\n",
       "      <td>Pending</td>\n",
       "      <td>45</td>\n",
       "      <td>9</td>\n",
       "      <td>2</td>\n",
       "      <td>1</td>\n",
       "      <td>Pending</td>\n",
       "      <td>0</td>\n",
       "      <td>2023-10</td>\n",
       "    </tr>\n",
       "    <tr>\n",
       "      <th>3</th>\n",
       "      <td>CUST00004</td>\n",
       "      <td>Intelligent Workflows</td>\n",
       "      <td>Europe</td>\n",
       "      <td>Healthcare</td>\n",
       "      <td>Mid-Market</td>\n",
       "      <td>20938.49</td>\n",
       "      <td>7563.59</td>\n",
       "      <td>8</td>\n",
       "      <td>2023-11-10</td>\n",
       "      <td>In Progress</td>\n",
       "      <td>Verified</td>\n",
       "      <td>Open</td>\n",
       "      <td>38</td>\n",
       "      <td>4</td>\n",
       "      <td>0</td>\n",
       "      <td>1</td>\n",
       "      <td>Churned</td>\n",
       "      <td>1</td>\n",
       "      <td>2023-11</td>\n",
       "    </tr>\n",
       "    <tr>\n",
       "      <th>4</th>\n",
       "      <td>CUST00005</td>\n",
       "      <td>SaaS Purchasing</td>\n",
       "      <td>North America</td>\n",
       "      <td>Finance</td>\n",
       "      <td>Enterprise</td>\n",
       "      <td>43666.92</td>\n",
       "      <td>7022.97</td>\n",
       "      <td>28</td>\n",
       "      <td>2023-10-26</td>\n",
       "      <td>Pending</td>\n",
       "      <td>Needs Attention</td>\n",
       "      <td>Pending</td>\n",
       "      <td>29</td>\n",
       "      <td>1</td>\n",
       "      <td>0</td>\n",
       "      <td>8</td>\n",
       "      <td>Pending</td>\n",
       "      <td>0</td>\n",
       "      <td>2023-10</td>\n",
       "    </tr>\n",
       "  </tbody>\n",
       "</table>\n",
       "</div>"
      ],
      "text/plain": [
       "  Customer_ID                Product         Region       Industry  \\\n",
       "0   CUST00001  Intelligent Workflows         Europe  Manufacturing   \n",
       "1   CUST00002        SaaS Purchasing         Europe  Manufacturing   \n",
       "2   CUST00003  Intelligent Workflows   Asia-Pacific     Healthcare   \n",
       "3   CUST00004  Intelligent Workflows         Europe     Healthcare   \n",
       "4   CUST00005        SaaS Purchasing  North America        Finance   \n",
       "\n",
       "  Customer_Segment  Monthly_Spend  Savings_Achieved  Engagement_Score  \\\n",
       "0              SMB       49971.27          11651.51                19   \n",
       "1       Enterprise        3362.39          11961.50                37   \n",
       "2       Enterprise       48881.54           4097.29                85   \n",
       "3       Mid-Market       20938.49           7563.59                 8   \n",
       "4       Enterprise       43666.92           7022.97                28   \n",
       "\n",
       "  Onboarding_Date Onboarding_Status Contract_Accuracy_Status  \\\n",
       "0      2023-10-11         Completed                 Verified   \n",
       "1      2023-10-24           Pending          Needs Attention   \n",
       "2      2023-10-20         Completed                 Verified   \n",
       "3      2023-11-10       In Progress                 Verified   \n",
       "4      2023-10-26           Pending          Needs Attention   \n",
       "\n",
       "  Support_Case_Status  Interactions_Logged  Data_Issues_Flagged  \\\n",
       "0              Closed                   45                    7   \n",
       "1              Closed                   37                    4   \n",
       "2             Pending                   45                    9   \n",
       "3                Open                   38                    4   \n",
       "4             Pending                   29                    1   \n",
       "\n",
       "   Bugs_Escalated  CSAT_Score Renewal_Status  Churn_Flag Year_Month  \n",
       "0               2           3        Pending           0    2023-10  \n",
       "1               0           1        Renewed           0    2023-10  \n",
       "2               2           1        Pending           0    2023-10  \n",
       "3               0           1        Churned           1    2023-11  \n",
       "4               0           8        Pending           0    2023-10  "
      ]
     },
     "execution_count": 301,
     "metadata": {},
     "output_type": "execute_result"
    }
   ],
   "source": [
    "vertice_df.head()"
   ]
  },
  {
   "cell_type": "code",
   "execution_count": 309,
   "id": "aa7b0e8a-7583-444d-9a78-d87f0f02037e",
   "metadata": {},
   "outputs": [
    {
     "data": {
      "text/html": [
       "<div>\n",
       "<style scoped>\n",
       "    .dataframe tbody tr th:only-of-type {\n",
       "        vertical-align: middle;\n",
       "    }\n",
       "\n",
       "    .dataframe tbody tr th {\n",
       "        vertical-align: top;\n",
       "    }\n",
       "\n",
       "    .dataframe thead th {\n",
       "        text-align: right;\n",
       "    }\n",
       "</style>\n",
       "<table border=\"1\" class=\"dataframe\">\n",
       "  <thead>\n",
       "    <tr style=\"text-align: right;\">\n",
       "      <th></th>\n",
       "      <th>Avg_CSAT</th>\n",
       "      <th>Total_Monthly_Spend</th>\n",
       "      <th>Total_Customers</th>\n",
       "      <th>Churn_Count</th>\n",
       "    </tr>\n",
       "    <tr>\n",
       "      <th>Customer_Segment</th>\n",
       "      <th></th>\n",
       "      <th></th>\n",
       "      <th></th>\n",
       "      <th></th>\n",
       "    </tr>\n",
       "  </thead>\n",
       "  <tbody>\n",
       "    <tr>\n",
       "      <th>Enterprise</th>\n",
       "      <td>4.679245</td>\n",
       "      <td>3915270.21</td>\n",
       "      <td>159</td>\n",
       "      <td>53</td>\n",
       "    </tr>\n",
       "    <tr>\n",
       "      <th>Mid-Market</th>\n",
       "      <td>5.045714</td>\n",
       "      <td>4541544.34</td>\n",
       "      <td>175</td>\n",
       "      <td>67</td>\n",
       "    </tr>\n",
       "    <tr>\n",
       "      <th>SMB</th>\n",
       "      <td>5.234940</td>\n",
       "      <td>4341774.64</td>\n",
       "      <td>166</td>\n",
       "      <td>54</td>\n",
       "    </tr>\n",
       "  </tbody>\n",
       "</table>\n",
       "</div>"
      ],
      "text/plain": [
       "                  Avg_CSAT  Total_Monthly_Spend  Total_Customers  Churn_Count\n",
       "Customer_Segment                                                             \n",
       "Enterprise        4.679245           3915270.21              159           53\n",
       "Mid-Market        5.045714           4541544.34              175           67\n",
       "SMB               5.234940           4341774.64              166           54"
      ]
     },
     "metadata": {},
     "output_type": "display_data"
    }
   ],
   "source": [
    "segment_overview = vertice_df.groupby(\"Customer_Segment\").agg(\n",
    "    Avg_CSAT=(\"CSAT_Score\",\"mean\"),\n",
    "    Total_Monthly_Spend=(\"Monthly_Spend\",\"sum\"),\n",
    "    Total_Customers=(\"Customer_ID\", \"count\"),\n",
    "    Churn_Count=(\"Churn_Flag\",\"sum\")\n",
    ")\n",
    "display(segment_overview)"
   ]
  },
  {
   "cell_type": "code",
   "execution_count": 313,
   "id": "6c68673f-6b30-43da-bd06-7b54d22963ce",
   "metadata": {},
   "outputs": [
    {
     "data": {
      "text/html": [
       "<div>\n",
       "<style scoped>\n",
       "    .dataframe tbody tr th:only-of-type {\n",
       "        vertical-align: middle;\n",
       "    }\n",
       "\n",
       "    .dataframe tbody tr th {\n",
       "        vertical-align: top;\n",
       "    }\n",
       "\n",
       "    .dataframe thead th {\n",
       "        text-align: right;\n",
       "    }\n",
       "</style>\n",
       "<table border=\"1\" class=\"dataframe\">\n",
       "  <thead>\n",
       "    <tr style=\"text-align: right;\">\n",
       "      <th></th>\n",
       "      <th>Avg_CSAT</th>\n",
       "      <th>Total_Monthly_Spend</th>\n",
       "      <th>Total_Customers</th>\n",
       "      <th>Churn_Count</th>\n",
       "      <th>Churn_Rate</th>\n",
       "    </tr>\n",
       "    <tr>\n",
       "      <th>Customer_Segment</th>\n",
       "      <th></th>\n",
       "      <th></th>\n",
       "      <th></th>\n",
       "      <th></th>\n",
       "      <th></th>\n",
       "    </tr>\n",
       "  </thead>\n",
       "  <tbody>\n",
       "    <tr>\n",
       "      <th>Enterprise</th>\n",
       "      <td>4.679245</td>\n",
       "      <td>3915270.21</td>\n",
       "      <td>159</td>\n",
       "      <td>53</td>\n",
       "      <td>33.333333</td>\n",
       "    </tr>\n",
       "    <tr>\n",
       "      <th>Mid-Market</th>\n",
       "      <td>5.045714</td>\n",
       "      <td>4541544.34</td>\n",
       "      <td>175</td>\n",
       "      <td>67</td>\n",
       "      <td>38.285714</td>\n",
       "    </tr>\n",
       "    <tr>\n",
       "      <th>SMB</th>\n",
       "      <td>5.234940</td>\n",
       "      <td>4341774.64</td>\n",
       "      <td>166</td>\n",
       "      <td>54</td>\n",
       "      <td>32.530120</td>\n",
       "    </tr>\n",
       "  </tbody>\n",
       "</table>\n",
       "</div>"
      ],
      "text/plain": [
       "                  Avg_CSAT  Total_Monthly_Spend  Total_Customers  Churn_Count  \\\n",
       "Customer_Segment                                                                \n",
       "Enterprise        4.679245           3915270.21              159           53   \n",
       "Mid-Market        5.045714           4541544.34              175           67   \n",
       "SMB               5.234940           4341774.64              166           54   \n",
       "\n",
       "                  Churn_Rate  \n",
       "Customer_Segment              \n",
       "Enterprise         33.333333  \n",
       "Mid-Market         38.285714  \n",
       "SMB                32.530120  "
      ]
     },
     "metadata": {},
     "output_type": "display_data"
    }
   ],
   "source": [
    "segment_overview[\"Churn_Rate\"] = (segment_overview[\"Churn_Count\"] / segment_overview[\"Total_Customers\"]) * 100\n",
    "display(segment_overview)"
   ]
  },
  {
   "cell_type": "code",
   "execution_count": 319,
   "id": "c59aac6b-ff1d-4e43-82e5-66f1815981e2",
   "metadata": {},
   "outputs": [
    {
     "data": {
      "text/html": [
       "<div>\n",
       "<style scoped>\n",
       "    .dataframe tbody tr th:only-of-type {\n",
       "        vertical-align: middle;\n",
       "    }\n",
       "\n",
       "    .dataframe tbody tr th {\n",
       "        vertical-align: top;\n",
       "    }\n",
       "\n",
       "    .dataframe thead th {\n",
       "        text-align: right;\n",
       "    }\n",
       "</style>\n",
       "<table border=\"1\" class=\"dataframe\">\n",
       "  <thead>\n",
       "    <tr style=\"text-align: right;\">\n",
       "      <th></th>\n",
       "      <th>Avg_CSAT</th>\n",
       "      <th>Total_Monthly_Spend</th>\n",
       "      <th>Total_Customers</th>\n",
       "      <th>Churn_Count</th>\n",
       "      <th>Churn_Rate</th>\n",
       "      <th>Low_CSAT_Flag</th>\n",
       "      <th>High_Churn_Flag</th>\n",
       "    </tr>\n",
       "    <tr>\n",
       "      <th>Customer_Segment</th>\n",
       "      <th></th>\n",
       "      <th></th>\n",
       "      <th></th>\n",
       "      <th></th>\n",
       "      <th></th>\n",
       "      <th></th>\n",
       "      <th></th>\n",
       "    </tr>\n",
       "  </thead>\n",
       "  <tbody>\n",
       "    <tr>\n",
       "      <th>Enterprise</th>\n",
       "      <td>4.679245</td>\n",
       "      <td>3915270.21</td>\n",
       "      <td>159</td>\n",
       "      <td>53</td>\n",
       "      <td>33.333333</td>\n",
       "      <td>True</td>\n",
       "      <td>False</td>\n",
       "    </tr>\n",
       "    <tr>\n",
       "      <th>Mid-Market</th>\n",
       "      <td>5.045714</td>\n",
       "      <td>4541544.34</td>\n",
       "      <td>175</td>\n",
       "      <td>67</td>\n",
       "      <td>38.285714</td>\n",
       "      <td>False</td>\n",
       "      <td>True</td>\n",
       "    </tr>\n",
       "    <tr>\n",
       "      <th>SMB</th>\n",
       "      <td>5.234940</td>\n",
       "      <td>4341774.64</td>\n",
       "      <td>166</td>\n",
       "      <td>54</td>\n",
       "      <td>32.530120</td>\n",
       "      <td>False</td>\n",
       "      <td>False</td>\n",
       "    </tr>\n",
       "  </tbody>\n",
       "</table>\n",
       "</div>"
      ],
      "text/plain": [
       "                  Avg_CSAT  Total_Monthly_Spend  Total_Customers  Churn_Count  \\\n",
       "Customer_Segment                                                                \n",
       "Enterprise        4.679245           3915270.21              159           53   \n",
       "Mid-Market        5.045714           4541544.34              175           67   \n",
       "SMB               5.234940           4341774.64              166           54   \n",
       "\n",
       "                  Churn_Rate  Low_CSAT_Flag  High_Churn_Flag  \n",
       "Customer_Segment                                              \n",
       "Enterprise         33.333333           True            False  \n",
       "Mid-Market         38.285714          False             True  \n",
       "SMB                32.530120          False            False  "
      ]
     },
     "metadata": {},
     "output_type": "display_data"
    }
   ],
   "source": [
    "segment_overview[\"Low_CSAT_Flag\"] = segment_overview[\"Avg_CSAT\"]<5\n",
    "segment_overview[\"High_Churn_Flag\"] = segment_overview[\"Churn_Rate\"] > 35\n",
    "display(segment_overview)"
   ]
  },
  {
   "cell_type": "code",
   "execution_count": 321,
   "id": "07e5849a-f5d1-429a-8bd6-20f66283ecd0",
   "metadata": {},
   "outputs": [
    {
     "data": {
      "text/html": [
       "<div>\n",
       "<style scoped>\n",
       "    .dataframe tbody tr th:only-of-type {\n",
       "        vertical-align: middle;\n",
       "    }\n",
       "\n",
       "    .dataframe tbody tr th {\n",
       "        vertical-align: top;\n",
       "    }\n",
       "\n",
       "    .dataframe thead th {\n",
       "        text-align: right;\n",
       "    }\n",
       "</style>\n",
       "<table border=\"1\" class=\"dataframe\">\n",
       "  <thead>\n",
       "    <tr style=\"text-align: right;\">\n",
       "      <th></th>\n",
       "      <th>Customer_ID</th>\n",
       "      <th>Product</th>\n",
       "      <th>Region</th>\n",
       "      <th>Industry</th>\n",
       "      <th>Customer_Segment</th>\n",
       "      <th>Monthly_Spend</th>\n",
       "      <th>Savings_Achieved</th>\n",
       "      <th>Engagement_Score</th>\n",
       "      <th>Onboarding_Date</th>\n",
       "      <th>Onboarding_Status</th>\n",
       "      <th>Contract_Accuracy_Status</th>\n",
       "      <th>Support_Case_Status</th>\n",
       "      <th>Interactions_Logged</th>\n",
       "      <th>Data_Issues_Flagged</th>\n",
       "      <th>Bugs_Escalated</th>\n",
       "      <th>CSAT_Score</th>\n",
       "      <th>Renewal_Status</th>\n",
       "      <th>Churn_Flag</th>\n",
       "      <th>Year_Month</th>\n",
       "    </tr>\n",
       "  </thead>\n",
       "  <tbody>\n",
       "    <tr>\n",
       "      <th>0</th>\n",
       "      <td>CUST00001</td>\n",
       "      <td>Intelligent Workflows</td>\n",
       "      <td>Europe</td>\n",
       "      <td>Manufacturing</td>\n",
       "      <td>SMB</td>\n",
       "      <td>49971.27</td>\n",
       "      <td>11651.51</td>\n",
       "      <td>19</td>\n",
       "      <td>2023-10-11</td>\n",
       "      <td>Completed</td>\n",
       "      <td>Verified</td>\n",
       "      <td>Closed</td>\n",
       "      <td>45</td>\n",
       "      <td>7</td>\n",
       "      <td>2</td>\n",
       "      <td>3</td>\n",
       "      <td>Pending</td>\n",
       "      <td>0</td>\n",
       "      <td>2023-10</td>\n",
       "    </tr>\n",
       "    <tr>\n",
       "      <th>1</th>\n",
       "      <td>CUST00002</td>\n",
       "      <td>SaaS Purchasing</td>\n",
       "      <td>Europe</td>\n",
       "      <td>Manufacturing</td>\n",
       "      <td>Enterprise</td>\n",
       "      <td>3362.39</td>\n",
       "      <td>11961.50</td>\n",
       "      <td>37</td>\n",
       "      <td>2023-10-24</td>\n",
       "      <td>Pending</td>\n",
       "      <td>Needs Attention</td>\n",
       "      <td>Closed</td>\n",
       "      <td>37</td>\n",
       "      <td>4</td>\n",
       "      <td>0</td>\n",
       "      <td>1</td>\n",
       "      <td>Renewed</td>\n",
       "      <td>0</td>\n",
       "      <td>2023-10</td>\n",
       "    </tr>\n",
       "    <tr>\n",
       "      <th>2</th>\n",
       "      <td>CUST00003</td>\n",
       "      <td>Intelligent Workflows</td>\n",
       "      <td>Asia-Pacific</td>\n",
       "      <td>Healthcare</td>\n",
       "      <td>Enterprise</td>\n",
       "      <td>48881.54</td>\n",
       "      <td>4097.29</td>\n",
       "      <td>85</td>\n",
       "      <td>2023-10-20</td>\n",
       "      <td>Completed</td>\n",
       "      <td>Verified</td>\n",
       "      <td>Pending</td>\n",
       "      <td>45</td>\n",
       "      <td>9</td>\n",
       "      <td>2</td>\n",
       "      <td>1</td>\n",
       "      <td>Pending</td>\n",
       "      <td>0</td>\n",
       "      <td>2023-10</td>\n",
       "    </tr>\n",
       "    <tr>\n",
       "      <th>3</th>\n",
       "      <td>CUST00004</td>\n",
       "      <td>Intelligent Workflows</td>\n",
       "      <td>Europe</td>\n",
       "      <td>Healthcare</td>\n",
       "      <td>Mid-Market</td>\n",
       "      <td>20938.49</td>\n",
       "      <td>7563.59</td>\n",
       "      <td>8</td>\n",
       "      <td>2023-11-10</td>\n",
       "      <td>In Progress</td>\n",
       "      <td>Verified</td>\n",
       "      <td>Open</td>\n",
       "      <td>38</td>\n",
       "      <td>4</td>\n",
       "      <td>0</td>\n",
       "      <td>1</td>\n",
       "      <td>Churned</td>\n",
       "      <td>1</td>\n",
       "      <td>2023-11</td>\n",
       "    </tr>\n",
       "    <tr>\n",
       "      <th>4</th>\n",
       "      <td>CUST00005</td>\n",
       "      <td>SaaS Purchasing</td>\n",
       "      <td>North America</td>\n",
       "      <td>Finance</td>\n",
       "      <td>Enterprise</td>\n",
       "      <td>43666.92</td>\n",
       "      <td>7022.97</td>\n",
       "      <td>28</td>\n",
       "      <td>2023-10-26</td>\n",
       "      <td>Pending</td>\n",
       "      <td>Needs Attention</td>\n",
       "      <td>Pending</td>\n",
       "      <td>29</td>\n",
       "      <td>1</td>\n",
       "      <td>0</td>\n",
       "      <td>8</td>\n",
       "      <td>Pending</td>\n",
       "      <td>0</td>\n",
       "      <td>2023-10</td>\n",
       "    </tr>\n",
       "  </tbody>\n",
       "</table>\n",
       "</div>"
      ],
      "text/plain": [
       "  Customer_ID                Product         Region       Industry  \\\n",
       "0   CUST00001  Intelligent Workflows         Europe  Manufacturing   \n",
       "1   CUST00002        SaaS Purchasing         Europe  Manufacturing   \n",
       "2   CUST00003  Intelligent Workflows   Asia-Pacific     Healthcare   \n",
       "3   CUST00004  Intelligent Workflows         Europe     Healthcare   \n",
       "4   CUST00005        SaaS Purchasing  North America        Finance   \n",
       "\n",
       "  Customer_Segment  Monthly_Spend  Savings_Achieved  Engagement_Score  \\\n",
       "0              SMB       49971.27          11651.51                19   \n",
       "1       Enterprise        3362.39          11961.50                37   \n",
       "2       Enterprise       48881.54           4097.29                85   \n",
       "3       Mid-Market       20938.49           7563.59                 8   \n",
       "4       Enterprise       43666.92           7022.97                28   \n",
       "\n",
       "  Onboarding_Date Onboarding_Status Contract_Accuracy_Status  \\\n",
       "0      2023-10-11         Completed                 Verified   \n",
       "1      2023-10-24           Pending          Needs Attention   \n",
       "2      2023-10-20         Completed                 Verified   \n",
       "3      2023-11-10       In Progress                 Verified   \n",
       "4      2023-10-26           Pending          Needs Attention   \n",
       "\n",
       "  Support_Case_Status  Interactions_Logged  Data_Issues_Flagged  \\\n",
       "0              Closed                   45                    7   \n",
       "1              Closed                   37                    4   \n",
       "2             Pending                   45                    9   \n",
       "3                Open                   38                    4   \n",
       "4             Pending                   29                    1   \n",
       "\n",
       "   Bugs_Escalated  CSAT_Score Renewal_Status  Churn_Flag Year_Month  \n",
       "0               2           3        Pending           0    2023-10  \n",
       "1               0           1        Renewed           0    2023-10  \n",
       "2               2           1        Pending           0    2023-10  \n",
       "3               0           1        Churned           1    2023-11  \n",
       "4               0           8        Pending           0    2023-10  "
      ]
     },
     "execution_count": 321,
     "metadata": {},
     "output_type": "execute_result"
    }
   ],
   "source": [
    "vertice_df.head()"
   ]
  },
  {
   "cell_type": "code",
   "execution_count": null,
   "id": "805d164a-36cd-49fa-af62-a83f6b898b39",
   "metadata": {},
   "outputs": [],
   "source": []
  }
 ],
 "metadata": {
  "kernelspec": {
   "display_name": "Python 3 (ipykernel)",
   "language": "python",
   "name": "python3"
  },
  "language_info": {
   "codemirror_mode": {
    "name": "ipython",
    "version": 3
   },
   "file_extension": ".py",
   "mimetype": "text/x-python",
   "name": "python",
   "nbconvert_exporter": "python",
   "pygments_lexer": "ipython3",
   "version": "3.12.4"
  }
 },
 "nbformat": 4,
 "nbformat_minor": 5
}
